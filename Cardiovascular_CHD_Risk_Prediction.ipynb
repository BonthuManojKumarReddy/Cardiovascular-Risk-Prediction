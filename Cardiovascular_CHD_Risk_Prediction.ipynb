{
  "nbformat": 4,
  "nbformat_minor": 0,
  "metadata": {
    "colab": {
      "name": "Cardiovascular CHD Risk Prediction.ipynb",
      "provenance": [],
      "collapsed_sections": []
    },
    "kernelspec": {
      "name": "python3",
      "display_name": "Python 3"
    },
    "language_info": {
      "name": "python"
    }
  },
  "cells": [
    {
      "cell_type": "markdown",
      "metadata": {
        "id": "BpUxAzo2KqqR"
      },
      "source": [
        "#**INTRODUCTION**"
      ]
    },
    {
      "cell_type": "markdown",
      "metadata": {
        "id": "4d2tdo5FK-ec"
      },
      "source": [
        "Heart disease is the major cause of morbidity and mortality globally: it accounts for more deaths annually than any other cause. According to the WHO, an estimated 17.9 million people died from heart disease in 2016, representing 31% of all global deaths. Over three quarters of these deaths took place in low- and middle-income countries.\n",
        "\n",
        "Of all heart diseases, coronary heart disease (aka heart attack) is by far the most common and the most fatal. In the United States, for example, it is estimated that someone has a heart attack every 40 seconds and about 805,000 Americans have a heart attack every year (CDC 2019).\n",
        "\n",
        "The silver lining is that heart attacks are highly preventable and simple lifestyle modifications(such as reducing alcohol and tobacco use; eating healthily and exercising) coupled with early treatment greatly improves its prognosis. It is, however, difficult to identify high risk patients because of the multi-factorial nature of several contributory risk factors such as diabetes, high blood pressure, high cholesterol, et cetera. This is where machine learning and data mining come to the rescue.\n",
        "\n",
        "Doctors and scientists alike have turned to machine learning (ML) techniques to develop screening tools and this is because of their superiority in pattern recognition and classification as compared to other traditional statistical approaches.\n",
        "\n",
        "In this project, I will be giving you a walk through on the development of a screening tool for predicting whether a patient has 10-year risk of developing coronary heart disease(CHD) using different Machine Learning techniques"
      ]
    },
    {
      "cell_type": "code",
      "metadata": {
        "colab": {
          "base_uri": "https://localhost:8080/"
        },
        "id": "xJ_kvmGxK5YJ",
        "outputId": "f3bb7f72-ad63-4098-d0fb-b382d66344f3"
      },
      "source": [
        "#mount drive\n",
        "from google.colab import drive\n",
        "drive.mount('/content/drive')"
      ],
      "execution_count": 1,
      "outputs": [
        {
          "output_type": "stream",
          "name": "stdout",
          "text": [
            "Mounted at /content/drive\n"
          ]
        }
      ]
    },
    {
      "cell_type": "code",
      "metadata": {
        "id": "LZoaQObrLQOT"
      },
      "source": [
        "import numpy as np\n",
        "import pandas as pd\n",
        "%matplotlib inline\n",
        "import matplotlib.pyplot as plt\n",
        "import seaborn as sns\n",
        "from sklearn.impute import KNNImputer\n",
        "from sklearn.impute import SimpleImputer\n",
        "# Import and suppress warnings\n",
        "import warnings\n",
        "warnings.filterwarnings('ignore')\n",
        "import os"
      ],
      "execution_count": 2,
      "outputs": []
    },
    {
      "cell_type": "code",
      "metadata": {
        "id": "DXjg7hdBLjwX"
      },
      "source": [
        "#loading data set\n",
        "path= \"/content/drive/MyDrive/ML-Supervised-Classification proj/Cardiovascular Risk Prediction/data_cardiovascular_risk.csv\"\n",
        "\n",
        "main_data = pd.read_csv(path)"
      ],
      "execution_count": 3,
      "outputs": []
    },
    {
      "cell_type": "code",
      "metadata": {
        "colab": {
          "base_uri": "https://localhost:8080/",
          "height": 206
        },
        "id": "T2V04myBL4SB",
        "outputId": "aeda52de-59b5-41d9-b905-a41b314c937f"
      },
      "source": [
        "#view\n",
        "main_data.head()"
      ],
      "execution_count": 4,
      "outputs": [
        {
          "output_type": "execute_result",
          "data": {
            "text/html": [
              "<div>\n",
              "<style scoped>\n",
              "    .dataframe tbody tr th:only-of-type {\n",
              "        vertical-align: middle;\n",
              "    }\n",
              "\n",
              "    .dataframe tbody tr th {\n",
              "        vertical-align: top;\n",
              "    }\n",
              "\n",
              "    .dataframe thead th {\n",
              "        text-align: right;\n",
              "    }\n",
              "</style>\n",
              "<table border=\"1\" class=\"dataframe\">\n",
              "  <thead>\n",
              "    <tr style=\"text-align: right;\">\n",
              "      <th></th>\n",
              "      <th>id</th>\n",
              "      <th>age</th>\n",
              "      <th>education</th>\n",
              "      <th>sex</th>\n",
              "      <th>is_smoking</th>\n",
              "      <th>cigsPerDay</th>\n",
              "      <th>BPMeds</th>\n",
              "      <th>prevalentStroke</th>\n",
              "      <th>prevalentHyp</th>\n",
              "      <th>diabetes</th>\n",
              "      <th>totChol</th>\n",
              "      <th>sysBP</th>\n",
              "      <th>diaBP</th>\n",
              "      <th>BMI</th>\n",
              "      <th>heartRate</th>\n",
              "      <th>glucose</th>\n",
              "      <th>TenYearCHD</th>\n",
              "    </tr>\n",
              "  </thead>\n",
              "  <tbody>\n",
              "    <tr>\n",
              "      <th>0</th>\n",
              "      <td>0</td>\n",
              "      <td>64</td>\n",
              "      <td>2.0</td>\n",
              "      <td>F</td>\n",
              "      <td>YES</td>\n",
              "      <td>3.0</td>\n",
              "      <td>0.0</td>\n",
              "      <td>0</td>\n",
              "      <td>0</td>\n",
              "      <td>0</td>\n",
              "      <td>221.0</td>\n",
              "      <td>148.0</td>\n",
              "      <td>85.0</td>\n",
              "      <td>NaN</td>\n",
              "      <td>90.0</td>\n",
              "      <td>80.0</td>\n",
              "      <td>1</td>\n",
              "    </tr>\n",
              "    <tr>\n",
              "      <th>1</th>\n",
              "      <td>1</td>\n",
              "      <td>36</td>\n",
              "      <td>4.0</td>\n",
              "      <td>M</td>\n",
              "      <td>NO</td>\n",
              "      <td>0.0</td>\n",
              "      <td>0.0</td>\n",
              "      <td>0</td>\n",
              "      <td>1</td>\n",
              "      <td>0</td>\n",
              "      <td>212.0</td>\n",
              "      <td>168.0</td>\n",
              "      <td>98.0</td>\n",
              "      <td>29.77</td>\n",
              "      <td>72.0</td>\n",
              "      <td>75.0</td>\n",
              "      <td>0</td>\n",
              "    </tr>\n",
              "    <tr>\n",
              "      <th>2</th>\n",
              "      <td>2</td>\n",
              "      <td>46</td>\n",
              "      <td>1.0</td>\n",
              "      <td>F</td>\n",
              "      <td>YES</td>\n",
              "      <td>10.0</td>\n",
              "      <td>0.0</td>\n",
              "      <td>0</td>\n",
              "      <td>0</td>\n",
              "      <td>0</td>\n",
              "      <td>250.0</td>\n",
              "      <td>116.0</td>\n",
              "      <td>71.0</td>\n",
              "      <td>20.35</td>\n",
              "      <td>88.0</td>\n",
              "      <td>94.0</td>\n",
              "      <td>0</td>\n",
              "    </tr>\n",
              "    <tr>\n",
              "      <th>3</th>\n",
              "      <td>3</td>\n",
              "      <td>50</td>\n",
              "      <td>1.0</td>\n",
              "      <td>M</td>\n",
              "      <td>YES</td>\n",
              "      <td>20.0</td>\n",
              "      <td>0.0</td>\n",
              "      <td>0</td>\n",
              "      <td>1</td>\n",
              "      <td>0</td>\n",
              "      <td>233.0</td>\n",
              "      <td>158.0</td>\n",
              "      <td>88.0</td>\n",
              "      <td>28.26</td>\n",
              "      <td>68.0</td>\n",
              "      <td>94.0</td>\n",
              "      <td>1</td>\n",
              "    </tr>\n",
              "    <tr>\n",
              "      <th>4</th>\n",
              "      <td>4</td>\n",
              "      <td>64</td>\n",
              "      <td>1.0</td>\n",
              "      <td>F</td>\n",
              "      <td>YES</td>\n",
              "      <td>30.0</td>\n",
              "      <td>0.0</td>\n",
              "      <td>0</td>\n",
              "      <td>0</td>\n",
              "      <td>0</td>\n",
              "      <td>241.0</td>\n",
              "      <td>136.5</td>\n",
              "      <td>85.0</td>\n",
              "      <td>26.42</td>\n",
              "      <td>70.0</td>\n",
              "      <td>77.0</td>\n",
              "      <td>0</td>\n",
              "    </tr>\n",
              "  </tbody>\n",
              "</table>\n",
              "</div>"
            ],
            "text/plain": [
              "   id  age  education sex  ...    BMI  heartRate  glucose  TenYearCHD\n",
              "0   0   64        2.0   F  ...    NaN       90.0     80.0           1\n",
              "1   1   36        4.0   M  ...  29.77       72.0     75.0           0\n",
              "2   2   46        1.0   F  ...  20.35       88.0     94.0           0\n",
              "3   3   50        1.0   M  ...  28.26       68.0     94.0           1\n",
              "4   4   64        1.0   F  ...  26.42       70.0     77.0           0\n",
              "\n",
              "[5 rows x 17 columns]"
            ]
          },
          "metadata": {},
          "execution_count": 4
        }
      ]
    },
    {
      "cell_type": "markdown",
      "metadata": {
        "id": "GZJQWxknMT2l"
      },
      "source": [
        "The dataset is from an ongoing cardiovascular studyon residents of the town of Framingham,Massachusetts. The classification goal is to predictwhether the patient has a 10-year risk offuture coronary heart disease (CHD). The dataset providesthe patients’ information. It includesover 4,000 records and 15 attributes.VariablesEach attribute is a potential risk factor. There are both demographic, behavioral, and medical riskfactors."
      ]
    },
    {
      "cell_type": "markdown",
      "metadata": {
        "id": "5YQgpufqMeWl"
      },
      "source": [
        "# **Data DescriptionDemographic:**\n",
        "\n",
        "\n",
        "\n",
        "\n",
        "*   Sex: male or female(\"M\" or \"F\")\n",
        "*   Age: Age of the patient;(Continuous - Although therecorded ages have been truncated towhole numbers, the concept of age is continuous)Behavioral\n",
        "*   is_smoking: whether or not the patient is a currentsmoker (\"YES\" or \"NO\")\n",
        "*   Cigs Per Day: the number of cigarettes that theperson smoked on average in one day.(can beconsidered continuous as one can have any number ofcigarettes, even half a cigarette.)Medical( history)\n",
        "*   BP Meds: whether or not the patient was on bloodpressure medication (Nominal)\n",
        "*   Prevalent Stroke: whether or not the patient hadpreviously had a stroke (Nominal)\n",
        "\n",
        "*   Prevalent Hyp: whether or not the patient was hypertensive(Nominal)\n",
        "*   Diabetes: whether or not the patient had diabetes(Nominal)Medical(current)\n",
        "\n",
        "*  Tot Chol: total cholesterol level (Continuous)\n",
        "*  Sys BP: systolic blood pressure (Continuous)\n",
        "\n",
        "*   Dia BP: diastolic blood pressure (Continuous)\n",
        "*   BMI: Body Mass Index (Continuous)\n",
        "*   Heart Rate: heart rate (Continuous - In medicalresearch, variables such as heart rate though infact discrete, yet are considered continuous becauseof large number of possible values.)\n",
        "*   Glucose: glucose level (Continuous)Predict variable (desired target)\n",
        "*  10-year risk of coronary heart disease CHD(binary:“1”, means “Yes”, “0” means “No”) -DV\n",
        "\n",
        "\n",
        "\n",
        "\n",
        "\n",
        "\n",
        "\n",
        "\n",
        "\n",
        "\n",
        "\n",
        "\n",
        "\n",
        "\n",
        "\n",
        "\n",
        "\n",
        "\n",
        "\n",
        "\n"
      ]
    },
    {
      "cell_type": "code",
      "metadata": {
        "colab": {
          "base_uri": "https://localhost:8080/",
          "height": 320
        },
        "id": "VSX5WlkfMQYT",
        "outputId": "ef907bf6-0907-4d50-eb9f-159a1891cae8"
      },
      "source": [
        "#descriptive stats\n",
        "main_data.describe()"
      ],
      "execution_count": 5,
      "outputs": [
        {
          "output_type": "execute_result",
          "data": {
            "text/html": [
              "<div>\n",
              "<style scoped>\n",
              "    .dataframe tbody tr th:only-of-type {\n",
              "        vertical-align: middle;\n",
              "    }\n",
              "\n",
              "    .dataframe tbody tr th {\n",
              "        vertical-align: top;\n",
              "    }\n",
              "\n",
              "    .dataframe thead th {\n",
              "        text-align: right;\n",
              "    }\n",
              "</style>\n",
              "<table border=\"1\" class=\"dataframe\">\n",
              "  <thead>\n",
              "    <tr style=\"text-align: right;\">\n",
              "      <th></th>\n",
              "      <th>id</th>\n",
              "      <th>age</th>\n",
              "      <th>education</th>\n",
              "      <th>cigsPerDay</th>\n",
              "      <th>BPMeds</th>\n",
              "      <th>prevalentStroke</th>\n",
              "      <th>prevalentHyp</th>\n",
              "      <th>diabetes</th>\n",
              "      <th>totChol</th>\n",
              "      <th>sysBP</th>\n",
              "      <th>diaBP</th>\n",
              "      <th>BMI</th>\n",
              "      <th>heartRate</th>\n",
              "      <th>glucose</th>\n",
              "      <th>TenYearCHD</th>\n",
              "    </tr>\n",
              "  </thead>\n",
              "  <tbody>\n",
              "    <tr>\n",
              "      <th>count</th>\n",
              "      <td>3390.000000</td>\n",
              "      <td>3390.000000</td>\n",
              "      <td>3303.000000</td>\n",
              "      <td>3368.000000</td>\n",
              "      <td>3346.000000</td>\n",
              "      <td>3390.000000</td>\n",
              "      <td>3390.000000</td>\n",
              "      <td>3390.000000</td>\n",
              "      <td>3352.000000</td>\n",
              "      <td>3390.00000</td>\n",
              "      <td>3390.000000</td>\n",
              "      <td>3376.000000</td>\n",
              "      <td>3389.000000</td>\n",
              "      <td>3086.000000</td>\n",
              "      <td>3390.000000</td>\n",
              "    </tr>\n",
              "    <tr>\n",
              "      <th>mean</th>\n",
              "      <td>1694.500000</td>\n",
              "      <td>49.542183</td>\n",
              "      <td>1.970936</td>\n",
              "      <td>9.069477</td>\n",
              "      <td>0.029886</td>\n",
              "      <td>0.006490</td>\n",
              "      <td>0.315339</td>\n",
              "      <td>0.025664</td>\n",
              "      <td>237.074284</td>\n",
              "      <td>132.60118</td>\n",
              "      <td>82.883038</td>\n",
              "      <td>25.794964</td>\n",
              "      <td>75.977279</td>\n",
              "      <td>82.086520</td>\n",
              "      <td>0.150737</td>\n",
              "    </tr>\n",
              "    <tr>\n",
              "      <th>std</th>\n",
              "      <td>978.753033</td>\n",
              "      <td>8.592878</td>\n",
              "      <td>1.019081</td>\n",
              "      <td>11.879078</td>\n",
              "      <td>0.170299</td>\n",
              "      <td>0.080309</td>\n",
              "      <td>0.464719</td>\n",
              "      <td>0.158153</td>\n",
              "      <td>45.247430</td>\n",
              "      <td>22.29203</td>\n",
              "      <td>12.023581</td>\n",
              "      <td>4.115449</td>\n",
              "      <td>11.971868</td>\n",
              "      <td>24.244753</td>\n",
              "      <td>0.357846</td>\n",
              "    </tr>\n",
              "    <tr>\n",
              "      <th>min</th>\n",
              "      <td>0.000000</td>\n",
              "      <td>32.000000</td>\n",
              "      <td>1.000000</td>\n",
              "      <td>0.000000</td>\n",
              "      <td>0.000000</td>\n",
              "      <td>0.000000</td>\n",
              "      <td>0.000000</td>\n",
              "      <td>0.000000</td>\n",
              "      <td>107.000000</td>\n",
              "      <td>83.50000</td>\n",
              "      <td>48.000000</td>\n",
              "      <td>15.960000</td>\n",
              "      <td>45.000000</td>\n",
              "      <td>40.000000</td>\n",
              "      <td>0.000000</td>\n",
              "    </tr>\n",
              "    <tr>\n",
              "      <th>25%</th>\n",
              "      <td>847.250000</td>\n",
              "      <td>42.000000</td>\n",
              "      <td>1.000000</td>\n",
              "      <td>0.000000</td>\n",
              "      <td>0.000000</td>\n",
              "      <td>0.000000</td>\n",
              "      <td>0.000000</td>\n",
              "      <td>0.000000</td>\n",
              "      <td>206.000000</td>\n",
              "      <td>117.00000</td>\n",
              "      <td>74.500000</td>\n",
              "      <td>23.020000</td>\n",
              "      <td>68.000000</td>\n",
              "      <td>71.000000</td>\n",
              "      <td>0.000000</td>\n",
              "    </tr>\n",
              "    <tr>\n",
              "      <th>50%</th>\n",
              "      <td>1694.500000</td>\n",
              "      <td>49.000000</td>\n",
              "      <td>2.000000</td>\n",
              "      <td>0.000000</td>\n",
              "      <td>0.000000</td>\n",
              "      <td>0.000000</td>\n",
              "      <td>0.000000</td>\n",
              "      <td>0.000000</td>\n",
              "      <td>234.000000</td>\n",
              "      <td>128.50000</td>\n",
              "      <td>82.000000</td>\n",
              "      <td>25.380000</td>\n",
              "      <td>75.000000</td>\n",
              "      <td>78.000000</td>\n",
              "      <td>0.000000</td>\n",
              "    </tr>\n",
              "    <tr>\n",
              "      <th>75%</th>\n",
              "      <td>2541.750000</td>\n",
              "      <td>56.000000</td>\n",
              "      <td>3.000000</td>\n",
              "      <td>20.000000</td>\n",
              "      <td>0.000000</td>\n",
              "      <td>0.000000</td>\n",
              "      <td>1.000000</td>\n",
              "      <td>0.000000</td>\n",
              "      <td>264.000000</td>\n",
              "      <td>144.00000</td>\n",
              "      <td>90.000000</td>\n",
              "      <td>28.040000</td>\n",
              "      <td>83.000000</td>\n",
              "      <td>87.000000</td>\n",
              "      <td>0.000000</td>\n",
              "    </tr>\n",
              "    <tr>\n",
              "      <th>max</th>\n",
              "      <td>3389.000000</td>\n",
              "      <td>70.000000</td>\n",
              "      <td>4.000000</td>\n",
              "      <td>70.000000</td>\n",
              "      <td>1.000000</td>\n",
              "      <td>1.000000</td>\n",
              "      <td>1.000000</td>\n",
              "      <td>1.000000</td>\n",
              "      <td>696.000000</td>\n",
              "      <td>295.00000</td>\n",
              "      <td>142.500000</td>\n",
              "      <td>56.800000</td>\n",
              "      <td>143.000000</td>\n",
              "      <td>394.000000</td>\n",
              "      <td>1.000000</td>\n",
              "    </tr>\n",
              "  </tbody>\n",
              "</table>\n",
              "</div>"
            ],
            "text/plain": [
              "                id          age  ...      glucose   TenYearCHD\n",
              "count  3390.000000  3390.000000  ...  3086.000000  3390.000000\n",
              "mean   1694.500000    49.542183  ...    82.086520     0.150737\n",
              "std     978.753033     8.592878  ...    24.244753     0.357846\n",
              "min       0.000000    32.000000  ...    40.000000     0.000000\n",
              "25%     847.250000    42.000000  ...    71.000000     0.000000\n",
              "50%    1694.500000    49.000000  ...    78.000000     0.000000\n",
              "75%    2541.750000    56.000000  ...    87.000000     0.000000\n",
              "max    3389.000000    70.000000  ...   394.000000     1.000000\n",
              "\n",
              "[8 rows x 15 columns]"
            ]
          },
          "metadata": {},
          "execution_count": 5
        }
      ]
    },
    {
      "cell_type": "markdown",
      "metadata": {
        "id": "4gstgODMOeFW"
      },
      "source": [
        "# **Goal : Given this problem statement we have to build a Predictive Model which will give early detections of heart disease**"
      ]
    },
    {
      "cell_type": "markdown",
      "metadata": {
        "id": "s3QyOnn0OvA_"
      },
      "source": [
        "# **For this problem our target variable : TenYearCHD**"
      ]
    },
    {
      "cell_type": "code",
      "metadata": {
        "colab": {
          "base_uri": "https://localhost:8080/"
        },
        "id": "7QOJ0kq8ObK4",
        "outputId": "6ecd2c50-ebb1-4fd7-e9ab-48dba3adb500"
      },
      "source": [
        "round(main_data.value_counts(\"TenYearCHD\")/main_data.shape[0],2)"
      ],
      "execution_count": 6,
      "outputs": [
        {
          "output_type": "execute_result",
          "data": {
            "text/plain": [
              "TenYearCHD\n",
              "0    0.85\n",
              "1    0.15\n",
              "dtype: float64"
            ]
          },
          "metadata": {},
          "execution_count": 6
        }
      ]
    },
    {
      "cell_type": "code",
      "metadata": {
        "colab": {
          "base_uri": "https://localhost:8080/",
          "height": 319
        },
        "id": "yusJAajbO_zz",
        "outputId": "551babec-6ba4-492e-9d7b-525990fe6710"
      },
      "source": [
        "labels = 'Non Risk',\"Risk\"\n",
        "my_colors = ['lightblue','red']\n",
        "my_explode = (0,0.1)\n",
        "plt.figure(figsize=(10,5))\n",
        "plt.pie(main_data['TenYearCHD'].value_counts(), labels=labels ,autopct='%1.0f%%', startangle =15, shadow =True, colors = my_colors, explode=my_explode )\n",
        "plt.title(\"Cardiovascular Risk rate\")\n",
        "plt.axis('equal')\n",
        "plt.show()"
      ],
      "execution_count": 7,
      "outputs": [
        {
          "output_type": "display_data",
          "data": {
            "image/png": "[encoded data removed]",
            "text/plain": [
              "<Figure size 720x360 with 1 Axes>"
            ]
          },
          "metadata": {}
        }
      ]
    },
    {
      "cell_type": "markdown",
      "metadata": {
        "id": "Eh_wmVAIPHXr"
      },
      "source": [
        "# **Here we see there is a huge class imbalancedment.**"
      ]
    },
    {
      "cell_type": "markdown",
      "metadata": {
        "id": "1gpeziCDPK2k"
      },
      "source": [
        "# **Renaming the Target variable \"TenYearCHD\" as RISK**"
      ]
    },
    {
      "cell_type": "code",
      "metadata": {
        "id": "xjpEqM7fPDFt"
      },
      "source": [
        "main_data.rename(columns={\"TenYearCHD\":\"RISK\"},inplace=True)"
      ],
      "execution_count": 8,
      "outputs": []
    },
    {
      "cell_type": "code",
      "metadata": {
        "colab": {
          "base_uri": "https://localhost:8080/"
        },
        "id": "rYJW2eUmPVBL",
        "outputId": "4218936a-7676-4be6-e308-9ffa2b2d8b22"
      },
      "source": [
        "main_data.columns"
      ],
      "execution_count": 9,
      "outputs": [
        {
          "output_type": "execute_result",
          "data": {
            "text/plain": [
              "Index(['id', 'age', 'education', 'sex', 'is_smoking', 'cigsPerDay', 'BPMeds',\n",
              "       'prevalentStroke', 'prevalentHyp', 'diabetes', 'totChol', 'sysBP',\n",
              "       'diaBP', 'BMI', 'heartRate', 'glucose', 'RISK'],\n",
              "      dtype='object')"
            ]
          },
          "metadata": {},
          "execution_count": 9
        }
      ]
    },
    {
      "cell_type": "code",
      "metadata": {
        "colab": {
          "base_uri": "https://localhost:8080/"
        },
        "id": "rkon3rYtPXt7",
        "outputId": "3babc202-097b-47f7-fbe5-9a2cbb569daf"
      },
      "source": [
        "#Sanity check\n",
        "round(main_data.isnull().sum()/main_data.shape[0]*100,2).sort_values(ascending=False).head()\n"
      ],
      "execution_count": 10,
      "outputs": [
        {
          "output_type": "execute_result",
          "data": {
            "text/plain": [
              "glucose       8.97\n",
              "education     2.57\n",
              "BPMeds        1.30\n",
              "totChol       1.12\n",
              "cigsPerDay    0.65\n",
              "dtype: float64"
            ]
          },
          "metadata": {},
          "execution_count": 10
        }
      ]
    },
    {
      "cell_type": "markdown",
      "metadata": {
        "id": "jP2KkLYCPios"
      },
      "source": [
        "# **Except the feature name glucose all other features in the dataset have less than 5% null values.**"
      ]
    },
    {
      "cell_type": "code",
      "metadata": {
        "id": "Qh2xxwcJPgSn"
      },
      "source": [
        "#Dropping redundant variable \"id\"\n",
        "main_data.drop(\"id\",axis=1,inplace=True)"
      ],
      "execution_count": 11,
      "outputs": []
    },
    {
      "cell_type": "code",
      "metadata": {
        "colab": {
          "base_uri": "https://localhost:8080/"
        },
        "id": "HsYO-QIIPpIn",
        "outputId": "6977d61a-b064-49e5-92fb-8d1644fa2ab4"
      },
      "source": [
        "main_data.shape"
      ],
      "execution_count": 12,
      "outputs": [
        {
          "output_type": "execute_result",
          "data": {
            "text/plain": [
              "(3390, 16)"
            ]
          },
          "metadata": {},
          "execution_count": 12
        }
      ]
    },
    {
      "cell_type": "markdown",
      "metadata": {
        "id": "k7JAjlESPt8L"
      },
      "source": [
        "# **Following Dataset has 3390 records and 15 Features which are responsible for \"Cardiovascular Risk\".**"
      ]
    },
    {
      "cell_type": "markdown",
      "metadata": {
        "id": "5OU5FWirPzCs"
      },
      "source": [
        "# **Project Work flow**\n",
        "\n",
        "---\n",
        "\n"
      ]
    },
    {
      "cell_type": "markdown",
      "metadata": {
        "id": "QA932GZvP4tk"
      },
      "source": [
        "\n",
        "\n",
        "1.   Splitting to Train,Validation and Test sets to avoid Data bleeding.\n",
        "2.   Simultaneously Data Cleaning of Train and Test sets\n",
        "\n",
        "1.   EDA on features\n",
        "2.   Feature cleaning if needed\n",
        "\n",
        "\n",
        "\n",
        "5.   Solving Class Imbalancedment problem\n",
        "2.   Base Model and Candidate Models\n",
        "\n",
        "1.   There Hypertuning\n",
        "2.   Bias-Variance tradeoff\n",
        "\n",
        "1.   Creating Voting Classifier\n",
        "2.   Final Predictions\n",
        "\n",
        "\n",
        "\n",
        "\n",
        "---\n",
        "\n",
        "\n",
        "\n",
        "\n",
        "\n",
        "\n",
        "\n",
        "\n"
      ]
    },
    {
      "cell_type": "markdown",
      "metadata": {
        "id": "tLYWmVaEROdj"
      },
      "source": [
        "# **1. To avoid bleeding of data, splitting the whole Dataset in Train , Validation and Test sets.**\n",
        "We want to (approximately) keep the proportion of Target values through the training and test sets, Hence we will pass stratify=Target. This will enable stratified splitting:"
      ]
    },
    {
      "cell_type": "code",
      "metadata": {
        "id": "VL1CMeeWPrfC"
      },
      "source": [
        "X= main_data.drop('RISK',axis=1)\n",
        "Y= main_data[\"RISK\"]"
      ],
      "execution_count": 13,
      "outputs": []
    },
    {
      "cell_type": "code",
      "metadata": {
        "colab": {
          "base_uri": "https://localhost:8080/"
        },
        "id": "XdcaLiznRb1Y",
        "outputId": "7ec2bc0f-e6bc-4743-dc2c-36c5b3aaa82c"
      },
      "source": [
        "len(X),len(Y)"
      ],
      "execution_count": 14,
      "outputs": [
        {
          "output_type": "execute_result",
          "data": {
            "text/plain": [
              "(3390, 3390)"
            ]
          },
          "metadata": {},
          "execution_count": 14
        }
      ]
    },
    {
      "cell_type": "code",
      "metadata": {
        "colab": {
          "base_uri": "https://localhost:8080/"
        },
        "id": "rE7lvI26RhE2",
        "outputId": "74b53965-b1af-4561-e34f-f1cc5cd6fc56"
      },
      "source": [
        "from sklearn.model_selection import train_test_split\n",
        "train_X ,final_testX,train_Y, final_testY = train_test_split(X,Y,test_size=0.2 , stratify=Y,random_state=1) \n",
        "\n",
        "print(\"Train set\",\":\",train_X.shape[0])\n",
        "\n",
        "\n",
        "print(\"Test set\",\":\",final_testX.shape[0])"
      ],
      "execution_count": 15,
      "outputs": [
        {
          "output_type": "stream",
          "name": "stdout",
          "text": [
            "Train set : 2712\n",
            "Test set : 678\n"
          ]
        }
      ]
    },
    {
      "cell_type": "markdown",
      "metadata": {
        "id": "2saZkFVARuSm"
      },
      "source": [
        "**Combining the Train features and target set for ease.**"
      ]
    },
    {
      "cell_type": "code",
      "metadata": {
        "id": "24W8hkmqRmJz"
      },
      "source": [
        "train_df= pd.concat([train_X,train_Y],axis=1)"
      ],
      "execution_count": 16,
      "outputs": []
    },
    {
      "cell_type": "code",
      "metadata": {
        "colab": {
          "base_uri": "https://localhost:8080/",
          "height": 224
        },
        "id": "452_oN2RR2OZ",
        "outputId": "2e2fb377-8135-4564-f4f5-14aa9439a6d9"
      },
      "source": [
        "print(train_df.shape)\n",
        "train_df.head()\n"
      ],
      "execution_count": 17,
      "outputs": [
        {
          "output_type": "stream",
          "name": "stdout",
          "text": [
            "(2712, 16)\n"
          ]
        },
        {
          "output_type": "execute_result",
          "data": {
            "text/html": [
              "<div>\n",
              "<style scoped>\n",
              "    .dataframe tbody tr th:only-of-type {\n",
              "        vertical-align: middle;\n",
              "    }\n",
              "\n",
              "    .dataframe tbody tr th {\n",
              "        vertical-align: top;\n",
              "    }\n",
              "\n",
              "    .dataframe thead th {\n",
              "        text-align: right;\n",
              "    }\n",
              "</style>\n",
              "<table border=\"1\" class=\"dataframe\">\n",
              "  <thead>\n",
              "    <tr style=\"text-align: right;\">\n",
              "      <th></th>\n",
              "      <th>age</th>\n",
              "      <th>education</th>\n",
              "      <th>sex</th>\n",
              "      <th>is_smoking</th>\n",
              "      <th>cigsPerDay</th>\n",
              "      <th>BPMeds</th>\n",
              "      <th>prevalentStroke</th>\n",
              "      <th>prevalentHyp</th>\n",
              "      <th>diabetes</th>\n",
              "      <th>totChol</th>\n",
              "      <th>sysBP</th>\n",
              "      <th>diaBP</th>\n",
              "      <th>BMI</th>\n",
              "      <th>heartRate</th>\n",
              "      <th>glucose</th>\n",
              "      <th>RISK</th>\n",
              "    </tr>\n",
              "  </thead>\n",
              "  <tbody>\n",
              "    <tr>\n",
              "      <th>542</th>\n",
              "      <td>49</td>\n",
              "      <td>2.0</td>\n",
              "      <td>F</td>\n",
              "      <td>YES</td>\n",
              "      <td>20.0</td>\n",
              "      <td>0.0</td>\n",
              "      <td>0</td>\n",
              "      <td>0</td>\n",
              "      <td>0</td>\n",
              "      <td>229.0</td>\n",
              "      <td>118.5</td>\n",
              "      <td>76.5</td>\n",
              "      <td>21.42</td>\n",
              "      <td>76.0</td>\n",
              "      <td>NaN</td>\n",
              "      <td>0</td>\n",
              "    </tr>\n",
              "    <tr>\n",
              "      <th>2726</th>\n",
              "      <td>51</td>\n",
              "      <td>3.0</td>\n",
              "      <td>M</td>\n",
              "      <td>NO</td>\n",
              "      <td>0.0</td>\n",
              "      <td>0.0</td>\n",
              "      <td>0</td>\n",
              "      <td>0</td>\n",
              "      <td>0</td>\n",
              "      <td>215.0</td>\n",
              "      <td>147.0</td>\n",
              "      <td>96.0</td>\n",
              "      <td>28.59</td>\n",
              "      <td>65.0</td>\n",
              "      <td>100.0</td>\n",
              "      <td>0</td>\n",
              "    </tr>\n",
              "    <tr>\n",
              "      <th>3067</th>\n",
              "      <td>57</td>\n",
              "      <td>1.0</td>\n",
              "      <td>F</td>\n",
              "      <td>YES</td>\n",
              "      <td>1.0</td>\n",
              "      <td>0.0</td>\n",
              "      <td>0</td>\n",
              "      <td>1</td>\n",
              "      <td>0</td>\n",
              "      <td>254.0</td>\n",
              "      <td>146.5</td>\n",
              "      <td>81.0</td>\n",
              "      <td>41.61</td>\n",
              "      <td>72.0</td>\n",
              "      <td>85.0</td>\n",
              "      <td>1</td>\n",
              "    </tr>\n",
              "    <tr>\n",
              "      <th>204</th>\n",
              "      <td>59</td>\n",
              "      <td>4.0</td>\n",
              "      <td>F</td>\n",
              "      <td>NO</td>\n",
              "      <td>0.0</td>\n",
              "      <td>1.0</td>\n",
              "      <td>0</td>\n",
              "      <td>1</td>\n",
              "      <td>0</td>\n",
              "      <td>282.0</td>\n",
              "      <td>135.0</td>\n",
              "      <td>87.0</td>\n",
              "      <td>28.96</td>\n",
              "      <td>72.0</td>\n",
              "      <td>NaN</td>\n",
              "      <td>0</td>\n",
              "    </tr>\n",
              "    <tr>\n",
              "      <th>329</th>\n",
              "      <td>52</td>\n",
              "      <td>1.0</td>\n",
              "      <td>F</td>\n",
              "      <td>NO</td>\n",
              "      <td>0.0</td>\n",
              "      <td>0.0</td>\n",
              "      <td>0</td>\n",
              "      <td>0</td>\n",
              "      <td>0</td>\n",
              "      <td>275.0</td>\n",
              "      <td>112.0</td>\n",
              "      <td>71.0</td>\n",
              "      <td>25.68</td>\n",
              "      <td>80.0</td>\n",
              "      <td>NaN</td>\n",
              "      <td>0</td>\n",
              "    </tr>\n",
              "  </tbody>\n",
              "</table>\n",
              "</div>"
            ],
            "text/plain": [
              "      age  education sex is_smoking  ...    BMI  heartRate  glucose  RISK\n",
              "542    49        2.0   F        YES  ...  21.42       76.0      NaN     0\n",
              "2726   51        3.0   M         NO  ...  28.59       65.0    100.0     0\n",
              "3067   57        1.0   F        YES  ...  41.61       72.0     85.0     1\n",
              "204    59        4.0   F         NO  ...  28.96       72.0      NaN     0\n",
              "329    52        1.0   F         NO  ...  25.68       80.0      NaN     0\n",
              "\n",
              "[5 rows x 16 columns]"
            ]
          },
          "metadata": {},
          "execution_count": 17
        }
      ]
    },
    {
      "cell_type": "code",
      "metadata": {
        "colab": {
          "base_uri": "https://localhost:8080/",
          "height": 206
        },
        "id": "TJwntHXrR4jQ",
        "outputId": "5067539c-675b-4170-fa15-a753e9265ff1"
      },
      "source": [
        "final_testX.head()"
      ],
      "execution_count": 18,
      "outputs": [
        {
          "output_type": "execute_result",
          "data": {
            "text/html": [
              "<div>\n",
              "<style scoped>\n",
              "    .dataframe tbody tr th:only-of-type {\n",
              "        vertical-align: middle;\n",
              "    }\n",
              "\n",
              "    .dataframe tbody tr th {\n",
              "        vertical-align: top;\n",
              "    }\n",
              "\n",
              "    .dataframe thead th {\n",
              "        text-align: right;\n",
              "    }\n",
              "</style>\n",
              "<table border=\"1\" class=\"dataframe\">\n",
              "  <thead>\n",
              "    <tr style=\"text-align: right;\">\n",
              "      <th></th>\n",
              "      <th>age</th>\n",
              "      <th>education</th>\n",
              "      <th>sex</th>\n",
              "      <th>is_smoking</th>\n",
              "      <th>cigsPerDay</th>\n",
              "      <th>BPMeds</th>\n",
              "      <th>prevalentStroke</th>\n",
              "      <th>prevalentHyp</th>\n",
              "      <th>diabetes</th>\n",
              "      <th>totChol</th>\n",
              "      <th>sysBP</th>\n",
              "      <th>diaBP</th>\n",
              "      <th>BMI</th>\n",
              "      <th>heartRate</th>\n",
              "      <th>glucose</th>\n",
              "    </tr>\n",
              "  </thead>\n",
              "  <tbody>\n",
              "    <tr>\n",
              "      <th>1532</th>\n",
              "      <td>42</td>\n",
              "      <td>2.0</td>\n",
              "      <td>M</td>\n",
              "      <td>YES</td>\n",
              "      <td>30.0</td>\n",
              "      <td>0.0</td>\n",
              "      <td>0</td>\n",
              "      <td>0</td>\n",
              "      <td>0</td>\n",
              "      <td>256.0</td>\n",
              "      <td>111.0</td>\n",
              "      <td>62.0</td>\n",
              "      <td>21.67</td>\n",
              "      <td>74.0</td>\n",
              "      <td>74.0</td>\n",
              "    </tr>\n",
              "    <tr>\n",
              "      <th>818</th>\n",
              "      <td>60</td>\n",
              "      <td>1.0</td>\n",
              "      <td>M</td>\n",
              "      <td>YES</td>\n",
              "      <td>9.0</td>\n",
              "      <td>0.0</td>\n",
              "      <td>0</td>\n",
              "      <td>0</td>\n",
              "      <td>0</td>\n",
              "      <td>166.0</td>\n",
              "      <td>141.0</td>\n",
              "      <td>81.0</td>\n",
              "      <td>19.42</td>\n",
              "      <td>67.0</td>\n",
              "      <td>101.0</td>\n",
              "    </tr>\n",
              "    <tr>\n",
              "      <th>2830</th>\n",
              "      <td>55</td>\n",
              "      <td>2.0</td>\n",
              "      <td>M</td>\n",
              "      <td>NO</td>\n",
              "      <td>0.0</td>\n",
              "      <td>0.0</td>\n",
              "      <td>0</td>\n",
              "      <td>0</td>\n",
              "      <td>0</td>\n",
              "      <td>309.0</td>\n",
              "      <td>126.0</td>\n",
              "      <td>88.0</td>\n",
              "      <td>26.77</td>\n",
              "      <td>68.0</td>\n",
              "      <td>NaN</td>\n",
              "    </tr>\n",
              "    <tr>\n",
              "      <th>1202</th>\n",
              "      <td>45</td>\n",
              "      <td>4.0</td>\n",
              "      <td>M</td>\n",
              "      <td>YES</td>\n",
              "      <td>5.0</td>\n",
              "      <td>0.0</td>\n",
              "      <td>0</td>\n",
              "      <td>1</td>\n",
              "      <td>0</td>\n",
              "      <td>227.0</td>\n",
              "      <td>166.0</td>\n",
              "      <td>102.0</td>\n",
              "      <td>29.32</td>\n",
              "      <td>58.0</td>\n",
              "      <td>85.0</td>\n",
              "    </tr>\n",
              "    <tr>\n",
              "      <th>1053</th>\n",
              "      <td>58</td>\n",
              "      <td>3.0</td>\n",
              "      <td>F</td>\n",
              "      <td>NO</td>\n",
              "      <td>0.0</td>\n",
              "      <td>0.0</td>\n",
              "      <td>0</td>\n",
              "      <td>1</td>\n",
              "      <td>0</td>\n",
              "      <td>287.0</td>\n",
              "      <td>144.0</td>\n",
              "      <td>84.0</td>\n",
              "      <td>21.81</td>\n",
              "      <td>69.0</td>\n",
              "      <td>68.0</td>\n",
              "    </tr>\n",
              "  </tbody>\n",
              "</table>\n",
              "</div>"
            ],
            "text/plain": [
              "      age  education sex is_smoking  ...  diaBP    BMI  heartRate  glucose\n",
              "1532   42        2.0   M        YES  ...   62.0  21.67       74.0     74.0\n",
              "818    60        1.0   M        YES  ...   81.0  19.42       67.0    101.0\n",
              "2830   55        2.0   M         NO  ...   88.0  26.77       68.0      NaN\n",
              "1202   45        4.0   M        YES  ...  102.0  29.32       58.0     85.0\n",
              "1053   58        3.0   F         NO  ...   84.0  21.81       69.0     68.0\n",
              "\n",
              "[5 rows x 15 columns]"
            ]
          },
          "metadata": {},
          "execution_count": 18
        }
      ]
    },
    {
      "cell_type": "code",
      "metadata": {
        "colab": {
          "base_uri": "https://localhost:8080/"
        },
        "id": "ckb5D9dAR70t",
        "outputId": "4b2a69b8-78ff-42bd-c2ce-5761e45008ca"
      },
      "source": [
        "print(train_df.value_counts(\"RISK\")/train_df.shape[0])\n",
        "\n",
        "print(final_testY.value_counts()/final_testY.shape[0])"
      ],
      "execution_count": 19,
      "outputs": [
        {
          "output_type": "stream",
          "name": "stdout",
          "text": [
            "RISK\n",
            "0    0.849189\n",
            "1    0.150811\n",
            "dtype: float64\n",
            "0    0.849558\n",
            "1    0.150442\n",
            "Name: RISK, dtype: float64\n"
          ]
        }
      ]
    },
    {
      "cell_type": "markdown",
      "metadata": {
        "id": "oFIuR7L6SDWm"
      },
      "source": [
        "# **2.Simultaneous Data Cleaning and Null value imputation in both train and test**\n",
        "\n",
        "\n",
        "---\n",
        "\n",
        "\n",
        "*   Identify the categorical and numerical columns to check the data distribution ##### Data Preprocessing class with the following functions using KNNImputer for continous and SimpleImputer for Categories :\n",
        " *   **missing_value_continuous:** function to handle missing values of continuous variables\n",
        "\n",
        "  *   **missing_value_categorical:** function to handle missing values of categorical variables\n",
        "\n",
        "  *   **outlier_treatment:** function to handle continuous outliers in the dataset\n",
        "\n",
        "\n",
        "\n",
        "![image.png](data:image/png;base64,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)\n",
        "\n",
        "\n",
        "\n",
        "\n",
        "\n",
        "\n",
        "\n",
        "\n",
        "\n",
        "\n"
      ]
    },
    {
      "cell_type": "code",
      "metadata": {
        "colab": {
          "base_uri": "https://localhost:8080/"
        },
        "id": "0uYVADeeR-ow",
        "outputId": "f28f09da-80a7-4fed-dbe6-b4eeeb9dac99"
      },
      "source": [
        "train_df.info()"
      ],
      "execution_count": 20,
      "outputs": [
        {
          "output_type": "stream",
          "name": "stdout",
          "text": [
            "<class 'pandas.core.frame.DataFrame'>\n",
            "Int64Index: 2712 entries, 542 to 682\n",
            "Data columns (total 16 columns):\n",
            " #   Column           Non-Null Count  Dtype  \n",
            "---  ------           --------------  -----  \n",
            " 0   age              2712 non-null   int64  \n",
            " 1   education        2643 non-null   float64\n",
            " 2   sex              2712 non-null   object \n",
            " 3   is_smoking       2712 non-null   object \n",
            " 4   cigsPerDay       2695 non-null   float64\n",
            " 5   BPMeds           2679 non-null   float64\n",
            " 6   prevalentStroke  2712 non-null   int64  \n",
            " 7   prevalentHyp     2712 non-null   int64  \n",
            " 8   diabetes         2712 non-null   int64  \n",
            " 9   totChol          2681 non-null   float64\n",
            " 10  sysBP            2712 non-null   float64\n",
            " 11  diaBP            2712 non-null   float64\n",
            " 12  BMI              2701 non-null   float64\n",
            " 13  heartRate        2711 non-null   float64\n",
            " 14  glucose          2473 non-null   float64\n",
            " 15  RISK             2712 non-null   int64  \n",
            "dtypes: float64(9), int64(5), object(2)\n",
            "memory usage: 360.2+ KB\n"
          ]
        }
      ]
    },
    {
      "cell_type": "code",
      "metadata": {
        "id": "jPtq5MjGU5RK"
      },
      "source": [
        "column_datatypes= train_df.drop(\"RISK\",axis=1).dtypes\n",
        "categorical_columns=list(column_datatypes[column_datatypes==\"object\"].index.values)\n",
        "continous_columns=list(column_datatypes[(column_datatypes==\"int64\") | (column_datatypes==\"float64\") ].index.values)"
      ],
      "execution_count": 21,
      "outputs": []
    },
    {
      "cell_type": "code",
      "metadata": {
        "id": "2GqHekQVVChi"
      },
      "source": [
        "class Data_preprocessing:\n",
        "  def __init__(self,train_data):\n",
        "        self.train_data = train_data\n",
        "\n",
        "  def missing_value_continous(self,columns_with_specific_type,neighbors=3):\n",
        "    knn_imputer= KNNImputer(n_neighbors=neighbors)\n",
        "    knn_imputer.fit(self.train_data[columns_with_specific_type])\n",
        "    self.train_data[columns_with_specific_type]= knn_imputer.transform(self.train_data[columns_with_specific_type])\n",
        "    return self.train_data\n",
        "\n",
        "  def missing_value_categorical(self,columns_with_specific_type,imputation_type=\"most_frequent\"):\n",
        "   most_frequent= SimpleImputer(strategy=\"most_frequent\")\n",
        "   most_frequent.fit(self.train_data[columns_with_specific_type])\n",
        "   self.train_data[columns_with_specific_type]= most_frequent.transform(self.train_data[columns_with_specific_type])\n",
        "   return self.train_data\n",
        "\n",
        "  def outlier_treatment(self,Q1,Q3,IQR,columns_with_outlier,action):\n",
        "     ''' \n",
        "     Finding Outliers and Imputing them by mean/median to avoid loss of data\n",
        "     '''\n",
        "     if action==\"median\":\n",
        "       for i in range(len(columns_with_outlier)):\n",
        "         column_name= columns_with_outlier[i]\n",
        "         meadian_outlier=np.median(self.train_data[column_name])\n",
        "         self.train_data.loc[self.train_data[((self.train_data[column_name]<(Q1[column_name]- (1.5*IQR[column_name])))| (self.train_data[column_name]>(Q3[column_name]+(1.5*IQR[column_name]))) )].index,column_name]=meadian_outlier\n",
        "\n",
        "  \n",
        "     if action== \"mean\":\n",
        "       for i in range(len(columns_with_outlier)):\n",
        "         column_name= columns_with_outlier[i]\n",
        "         mean_outlier=np.mean(self.train_data[column_name])\n",
        "         self.train_data.loc[self.train_data[((self.train_data[column_name]<(Q1[column_name]- (1.5*IQR[column_name])))| (self.train_data[column_name]>(Q3[column_name]+(1.5*IQR[column_name]))) )].index,column_name]=mean_outlier\n",
        "     return self.train_data"
      ],
      "execution_count": 22,
      "outputs": []
    },
    {
      "cell_type": "code",
      "metadata": {
        "id": "Si44Vzx8VN8R"
      },
      "source": [
        "dlist= [train_df,final_testX]\n",
        "for df in dlist:\n",
        "  #create class object\n",
        "  dat= Data_preprocessing(df)\n",
        "  df= dat.missing_value_continous(continous_columns)\n",
        "  df= dat.missing_value_categorical(categorical_columns)"
      ],
      "execution_count": 23,
      "outputs": []
    },
    {
      "cell_type": "code",
      "metadata": {
        "colab": {
          "base_uri": "https://localhost:8080/"
        },
        "id": "nL4BVzTJVUig",
        "outputId": "217f5410-90e5-4be1-cce9-79f71a2966b4"
      },
      "source": [
        "print(train_df.isnull().sum())\n",
        "print('-'*100)\n",
        "print(final_testX.isnull().sum())"
      ],
      "execution_count": 24,
      "outputs": [
        {
          "output_type": "stream",
          "name": "stdout",
          "text": [
            "age                0\n",
            "education          0\n",
            "sex                0\n",
            "is_smoking         0\n",
            "cigsPerDay         0\n",
            "BPMeds             0\n",
            "prevalentStroke    0\n",
            "prevalentHyp       0\n",
            "diabetes           0\n",
            "totChol            0\n",
            "sysBP              0\n",
            "diaBP              0\n",
            "BMI                0\n",
            "heartRate          0\n",
            "glucose            0\n",
            "RISK               0\n",
            "dtype: int64\n",
            "----------------------------------------------------------------------------------------------------\n",
            "age                0\n",
            "education          0\n",
            "sex                0\n",
            "is_smoking         0\n",
            "cigsPerDay         0\n",
            "BPMeds             0\n",
            "prevalentStroke    0\n",
            "prevalentHyp       0\n",
            "diabetes           0\n",
            "totChol            0\n",
            "sysBP              0\n",
            "diaBP              0\n",
            "BMI                0\n",
            "heartRate          0\n",
            "glucose            0\n",
            "dtype: int64\n"
          ]
        }
      ]
    },
    {
      "cell_type": "markdown",
      "metadata": {
        "id": "koeGYlV_Vg6n"
      },
      "source": [
        "# **Handling Outliers**\n",
        "# **Outliers in train set**"
      ]
    },
    {
      "cell_type": "code",
      "metadata": {
        "colab": {
          "base_uri": "https://localhost:8080/",
          "height": 443
        },
        "id": "1bOm45i3VXhZ",
        "outputId": "3e8bacfe-7c8c-404d-a867-abfd8896b9be"
      },
      "source": [
        "plt.figure(figsize=(10,6))\n",
        "plt.xticks(rotation=90)\n",
        "ax= sns.boxplot(data=train_df[continous_columns],orient='v',palette='Set2')"
      ],
      "execution_count": 25,
      "outputs": [
        {
          "output_type": "display_data",
          "data": {
            "image/png": "[encoded data removed]",
            "text/plain": [
              "<Figure size 720x432 with 1 Axes>"
            ]
          },
          "metadata": {
            "needs_background": "light"
          }
        }
      ]
    },
    {
      "cell_type": "code",
      "metadata": {
        "id": "2F1dJIPQV5QD"
      },
      "source": [
        "train_outliers= [\"cigsPerDay\",\"totChol\",\"sysBP\",\"diaBP\",\"BMI\",\"heartRate\",\"glucose\"]"
      ],
      "execution_count": 26,
      "outputs": []
    },
    {
      "cell_type": "markdown",
      "metadata": {
        "id": "bq9-aRv3WIGa"
      },
      "source": [
        "# **Outliers in test set**"
      ]
    },
    {
      "cell_type": "code",
      "metadata": {
        "colab": {
          "base_uri": "https://localhost:8080/",
          "height": 443
        },
        "id": "FZRv0dzpV_q6",
        "outputId": "36b27719-e346-41b6-fd02-de020f7fc1d1"
      },
      "source": [
        "plt.figure(figsize=(10,6))\n",
        "plt.xticks(rotation=90)\n",
        "ax= sns.boxplot(data=final_testX[continous_columns],orient='v',palette='Set2')"
      ],
      "execution_count": 27,
      "outputs": [
        {
          "output_type": "display_data",
          "data": {
            "image/png": "[encoded data removed]",
            "text/plain": [
              "<Figure size 720x432 with 1 Axes>"
            ]
          },
          "metadata": {
            "needs_background": "light"
          }
        }
      ]
    },
    {
      "cell_type": "code",
      "metadata": {
        "id": "vRwPJIrLWQ3o"
      },
      "source": [
        "test_outliers=train_outliers"
      ],
      "execution_count": 28,
      "outputs": []
    },
    {
      "cell_type": "markdown",
      "metadata": {
        "id": "n27-z5qIWfKb"
      },
      "source": [
        "## **both have same outlier columns**"
      ]
    },
    {
      "cell_type": "code",
      "metadata": {
        "id": "J1vYugUqWWEE"
      },
      "source": [
        "#compute outlier treatment\n",
        "ldf=[train_df,final_testX]\n",
        "for df in ldf:\n",
        "  dat= Data_preprocessing(df)\n",
        "  Q1= df[continous_columns].quantile(0.25)\n",
        "  Q3= df[continous_columns].quantile(0.75)\n",
        "  IQR= (Q3-Q1)\n",
        "  df= dat.outlier_treatment(Q1,Q3,IQR,train_outliers,\"median\")\n"
      ],
      "execution_count": 29,
      "outputs": []
    },
    {
      "cell_type": "markdown",
      "metadata": {
        "id": "mEpfFpUaWw-U"
      },
      "source": [
        "# **Treatment Done!**"
      ]
    },
    {
      "cell_type": "code",
      "metadata": {
        "colab": {
          "base_uri": "https://localhost:8080/",
          "height": 443
        },
        "id": "T05QJLcIWte1",
        "outputId": "d6bc0cf1-3c66-4038-b424-912eb9a88eac"
      },
      "source": [
        "plt.figure(figsize=(10,6))\n",
        "plt.xticks(rotation=90)\n",
        "ax= sns.boxplot(data=train_df[continous_columns],orient='v',palette='Set2')"
      ],
      "execution_count": 30,
      "outputs": [
        {
          "output_type": "display_data",
          "data": {
            "image/png": "[encoded data removed]",
            "text/plain": [
              "<Figure size 720x432 with 1 Axes>"
            ]
          },
          "metadata": {
            "needs_background": "light"
          }
        }
      ]
    },
    {
      "cell_type": "markdown",
      "metadata": {
        "id": "leoAw-yIW7x3"
      },
      "source": [
        "# **3. EDA on features to find some pattern using training data set**\n",
        "\n",
        "\n",
        "---\n",
        "\n"
      ]
    },
    {
      "cell_type": "markdown",
      "metadata": {
        "id": "ynpoBFF5XIo3"
      },
      "source": [
        "**AGE and Sex**"
      ]
    },
    {
      "cell_type": "code",
      "metadata": {
        "colab": {
          "base_uri": "https://localhost:8080/"
        },
        "id": "NLk5D8rIW3oS",
        "outputId": "b83970cd-0bd4-4c35-dad6-71b6783b4fc8"
      },
      "source": [
        "train_df['sex'].unique()"
      ],
      "execution_count": 31,
      "outputs": [
        {
          "output_type": "execute_result",
          "data": {
            "text/plain": [
              "array(['F', 'M'], dtype=object)"
            ]
          },
          "metadata": {},
          "execution_count": 31
        }
      ]
    },
    {
      "cell_type": "code",
      "metadata": {
        "colab": {
          "base_uri": "https://localhost:8080/",
          "height": 531
        },
        "id": "M6XdJvWiXKrP",
        "outputId": "174ff90f-cc3a-4e97-80ee-af0dedfcfe81"
      },
      "source": [
        "at_risk = \"At risk\"\n",
        "no_risk= \"No risk\"\n",
        "fig , axes= plt.subplots(nrows=1,ncols=3,figsize=(20,8))\n",
        "ax= sns.distplot(train_df[train_df['RISK']==1].age,bins=18,label=at_risk,ax=axes[0],color='r',kde=False)\n",
        "ax= sns.distplot(train_df[train_df['RISK']==0].age,bins=40,label=no_risk,ax=axes[0],color='g' ,kde=False)\n",
        "ax.legend()\n",
        "ax.set_title(\"Given Population\")\n",
        "women= train_df[train_df['sex']==\"F\"]\n",
        "men= train_df[train_df['sex']==\"M\"]\n",
        "ax= sns.distplot(women[women['RISK']==1].age,bins=18,label=at_risk,ax=axes[1],color='r',kde=False)\n",
        "ax= sns.distplot(women[women['RISK']==0].age,bins=40,label=no_risk,ax=axes[1],color='g',kde=False)\n",
        "ax.legend()\n",
        "ax.set_title(\"Female\")\n",
        "ax= sns.distplot(men[men['RISK']==1].age,bins=18,label=at_risk,ax=axes[2],color='r',kde=False)\n",
        "ax= sns.distplot(men[men['RISK']==0].age,bins=40,label=no_risk,ax=axes[2],color='g',kde=False)\n",
        "ax.legend()\n",
        "ax.set_title(\"Male\")"
      ],
      "execution_count": 32,
      "outputs": [
        {
          "output_type": "execute_result",
          "data": {
            "text/plain": [
              "Text(0.5, 1.0, 'Male')"
            ]
          },
          "metadata": {},
          "execution_count": 32
        },
        {
          "output_type": "display_data",
          "data": {
            "image/png": "[encoded data removed]",
            "text/plain": [
              "<Figure size 1440x576 with 3 Axes>"
            ]
          },
          "metadata": {
            "needs_background": "light"
          }
        }
      ]
    },
    {
      "cell_type": "markdown",
      "metadata": {
        "id": "bznCmGDjXs3D"
      },
      "source": [
        "# **INSIGHTS :**\n",
        "From the above graphs we can say that:\n",
        " 1.  Both Women and Men lying in Age group of 50-52 have high risk of heart disease.\n",
        " 2.  Men lying in age group 40-42 are at risk.\n",
        " 1.   Men having age more than 65 are also at risk.\n",
        "\n",
        "\n",
        "\n",
        "\n",
        "\n",
        "\n"
      ]
    },
    {
      "cell_type": "markdown",
      "metadata": {
        "id": "a8FV1Z2KYEWw"
      },
      "source": [
        "# **Age and Smoking**"
      ]
    },
    {
      "cell_type": "code",
      "metadata": {
        "colab": {
          "base_uri": "https://localhost:8080/",
          "height": 531
        },
        "id": "MADMxSV3XQid",
        "outputId": "ecf38c7b-8a01-4be0-acea-6526b068d172"
      },
      "source": [
        "at_risk = \"At risk\"\n",
        "no_risk= \"No risk\"\n",
        "smoking= train_df[train_df['is_smoking']==\"YES\"]\n",
        "non_smoking= train_df[train_df['is_smoking']==\"NO\"]\n",
        "fig , axes= plt.subplots(nrows=1,ncols=2,figsize=(20,8))\n",
        "ax= sns.distplot(smoking[train_df['RISK']==1].age,bins=18,label=at_risk,ax=axes[0],color='r',kde=False)\n",
        "ax= sns.distplot(smoking[train_df['RISK']==0].age,bins=40,label=no_risk,ax=axes[0],color='g',kde=False)\n",
        "ax.legend()\n",
        "ax.set_title(\"Smokers\")\n",
        "\n",
        "ax= sns.distplot(non_smoking[train_df['RISK']==1].age,bins=18,label=at_risk,ax=axes[1],color='r',kde=False)\n",
        "ax= sns.distplot(non_smoking[train_df['RISK']==0].age,bins=40,label=no_risk,ax=axes[1],color='g',kde=False)\n",
        "ax.legend()\n",
        "ax.set_title(\"NonSmokers\")"
      ],
      "execution_count": 33,
      "outputs": [
        {
          "output_type": "execute_result",
          "data": {
            "text/plain": [
              "Text(0.5, 1.0, 'NonSmokers')"
            ]
          },
          "metadata": {},
          "execution_count": 33
        },
        {
          "output_type": "display_data",
          "data": {
            "image/png": "[encoded data removed]",
            "text/plain": [
              "<Figure size 1440x576 with 2 Axes>"
            ]
          },
          "metadata": {
            "needs_background": "light"
          }
        }
      ]
    },
    {
      "cell_type": "markdown",
      "metadata": {
        "id": "ucR69g-vYffK"
      },
      "source": [
        "# **INSIGHTS:**\n",
        "Again we see Risk is High in same age group despite they are Smokers or not."
      ]
    },
    {
      "cell_type": "code",
      "metadata": {
        "colab": {
          "base_uri": "https://localhost:8080/"
        },
        "id": "4Fns2rPlYJ6l",
        "outputId": "040858e2-08a6-446c-e411-a76eb785ffcf"
      },
      "source": [
        "train_df['is_smoking'].unique()"
      ],
      "execution_count": 34,
      "outputs": [
        {
          "output_type": "execute_result",
          "data": {
            "text/plain": [
              "array(['YES', 'NO'], dtype=object)"
            ]
          },
          "metadata": {},
          "execution_count": 34
        }
      ]
    },
    {
      "cell_type": "markdown",
      "metadata": {
        "id": "H7uABqKtYsnZ"
      },
      "source": [
        "# **Cigs(Cigerettes smoke by a Person per day) ,Sex,RISK**"
      ]
    },
    {
      "cell_type": "code",
      "metadata": {
        "colab": {
          "base_uri": "https://localhost:8080/"
        },
        "id": "w3TEPZS_YpA9",
        "outputId": "8011f794-764e-44e7-c4ec-1c9ebdfb5c09"
      },
      "source": [
        "train_df.columns\n"
      ],
      "execution_count": 35,
      "outputs": [
        {
          "output_type": "execute_result",
          "data": {
            "text/plain": [
              "Index(['age', 'education', 'sex', 'is_smoking', 'cigsPerDay', 'BPMeds',\n",
              "       'prevalentStroke', 'prevalentHyp', 'diabetes', 'totChol', 'sysBP',\n",
              "       'diaBP', 'BMI', 'heartRate', 'glucose', 'RISK'],\n",
              "      dtype='object')"
            ]
          },
          "metadata": {},
          "execution_count": 35
        }
      ]
    },
    {
      "cell_type": "code",
      "metadata": {
        "id": "bOIQY4KjY3Ox"
      },
      "source": [
        "train_df['cigsPerDay']=train_df['cigsPerDay'].astype(int)"
      ],
      "execution_count": 36,
      "outputs": []
    },
    {
      "cell_type": "code",
      "metadata": {
        "id": "heNk4HihY6_O"
      },
      "source": [
        "final_testX['cigsPerDay']=final_testX['cigsPerDay'].astype(int)"
      ],
      "execution_count": 37,
      "outputs": []
    },
    {
      "cell_type": "code",
      "metadata": {
        "colab": {
          "base_uri": "https://localhost:8080/",
          "height": 369
        },
        "id": "-jJwSWNbZAT6",
        "outputId": "ef7cc20f-53ea-4132-c436-966dbce2d962"
      },
      "source": [
        "g=sns.factorplot('cigsPerDay','RISK',kind='bar',\n",
        "                    data=train_df,hue='sex',aspect=3)\n",
        "g=g.set_ylabels(\"RISK Probability\")"
      ],
      "execution_count": 38,
      "outputs": [
        {
          "output_type": "display_data",
          "data": {
            "image/png": "[encoded data removed]",
            "text/plain": [
              "<Figure size 1124.62x360 with 1 Axes>"
            ]
          },
          "metadata": {
            "needs_background": "light"
          }
        }
      ]
    },
    {
      "cell_type": "markdown",
      "metadata": {
        "id": "IooPeZpRZPwz"
      },
      "source": [
        "# **INSIGHTS:**\n",
        "\n",
        "\n",
        "1.  Both Male,Female who are non smoker or smoke less than 4 cigs per day have very low risk of Heart disease\n",
        "2.  All those men who smoke 7 cigs definitely got a heart disease.\n",
        "\n"
      ]
    },
    {
      "cell_type": "markdown",
      "metadata": {
        "id": "zg4YvEFHZdti"
      },
      "source": [
        "# **Converting following columns : 'BPMeds' ,'prevalentStroke', 'prevalentHyp', 'diabetes' into categorical column**"
      ]
    },
    {
      "cell_type": "code",
      "metadata": {
        "id": "B36LLs89ZENp"
      },
      "source": [
        "ldf= [train_df,final_testX]\n",
        "tocat=['prevalentStroke', 'prevalentHyp', 'diabetes']\n",
        "for df in ldf:\n",
        "  for col in tocat:\n",
        "    df[col]=df[col].astype('category')"
      ],
      "execution_count": 39,
      "outputs": []
    },
    {
      "cell_type": "markdown",
      "metadata": {
        "id": "NYeBNTLPZlY5"
      },
      "source": [
        "# **Diabetes**"
      ]
    },
    {
      "cell_type": "code",
      "metadata": {
        "colab": {
          "base_uri": "https://localhost:8080/",
          "height": 585
        },
        "id": "DdNixS2KZimm",
        "outputId": "4fa611b9-f233-4adb-b694-0d34e69aa78f"
      },
      "source": [
        "grid= sns.FacetGrid(train_df,col='RISK',row='diabetes',size=4,aspect=1.2,palette='viridis')\n",
        "grid.map(plt.hist,'age',alpha=.8,bins=20)\n",
        "grid.add_legend();"
      ],
      "execution_count": 40,
      "outputs": [
        {
          "output_type": "display_data",
          "data": {
            "image/png": "[encoded data removed]",
            "text/plain": [
              "<Figure size 699.2x576 with 4 Axes>"
            ]
          },
          "metadata": {
            "needs_background": "light"
          }
        }
      ]
    },
    {
      "cell_type": "markdown",
      "metadata": {
        "id": "anJDxJ0WZsrD"
      },
      "source": [
        "# **INSIGHTS:**\n",
        "In general People who don't have diabetes also don't have Heart disease."
      ]
    },
    {
      "cell_type": "markdown",
      "metadata": {
        "id": "Ztml81wGZ0BJ"
      },
      "source": [
        "# **Numerical Variables VS Risk**"
      ]
    },
    {
      "cell_type": "code",
      "metadata": {
        "colab": {
          "base_uri": "https://localhost:8080/"
        },
        "id": "R9JUECwMZohU",
        "outputId": "f0c7e3bd-8568-403a-f835-37b9b0847f8a"
      },
      "source": [
        "numerical_col=continous_columns[7:]\n",
        "print(numerical_col)"
      ],
      "execution_count": 41,
      "outputs": [
        {
          "output_type": "stream",
          "name": "stdout",
          "text": [
            "['totChol', 'sysBP', 'diaBP', 'BMI', 'heartRate', 'glucose']\n"
          ]
        }
      ]
    },
    {
      "cell_type": "code",
      "metadata": {
        "colab": {
          "base_uri": "https://localhost:8080/",
          "height": 309
        },
        "id": "aEb8Rq8yZ_Wl",
        "outputId": "1929dc37-5413-4e8f-c7df-007785712558"
      },
      "source": [
        "#correlation matrix between numerical variables and RISK of getting heart disease\n",
        "numerical_col.append('RISK')\n",
        "g= sns.heatmap(train_df[numerical_col].corr(),annot=True,fmt='.2f',cmap='coolwarm')\n"
      ],
      "execution_count": 42,
      "outputs": [
        {
          "output_type": "display_data",
          "data": {
            "image/png": "[encoded data removed]",
            "text/plain": [
              "<Figure size 432x288 with 2 Axes>"
            ]
          },
          "metadata": {
            "needs_background": "light"
          }
        }
      ]
    },
    {
      "cell_type": "markdown",
      "metadata": {
        "id": "oEcYdwJMaFqi"
      },
      "source": [
        "\"diaBP\" and \"sysBP\" are highly correlated\n",
        "\n",
        "\n",
        "\n",
        "1.   diaBP is Diastolic Pressure\n",
        "2.   sysBP is Systolic Pressure\n",
        "\n",
        "We generally while measuring our BP look for there Ratio e.g a healthy person has 120/80\n",
        "\n",
        "\n",
        "\n"
      ]
    },
    {
      "cell_type": "markdown",
      "metadata": {
        "id": "ujzwH2ZbaieS"
      },
      "source": [
        "# **Deriving new feature AvgBP = sysBP+diaBP/2 and dropping diaBP**"
      ]
    },
    {
      "cell_type": "code",
      "metadata": {
        "id": "jsLd86s4aCHT"
      },
      "source": [
        "X_df=train_df.copy()\n",
        "Xt_df=final_testX.copy()"
      ],
      "execution_count": 43,
      "outputs": []
    },
    {
      "cell_type": "code",
      "metadata": {
        "id": "IHfdc4wzanb4"
      },
      "source": [
        "ldf=[train_df,final_testX]\n",
        "for df in ldf:\n",
        "  df['bp_ratio']= round(df[\"sysBP\"]/df[\"diaBP\"],2)\n",
        "  #df[\"avgBP\"]= round((df[\"sysBP\"]+df[\"diaBP\"])/2,2)\n",
        "  df.drop(\"diaBP\",axis=1,inplace=True)\n",
        "  #df.drop(\"sysBP\",axis=1,inplace=True)"
      ],
      "execution_count": 44,
      "outputs": []
    },
    {
      "cell_type": "code",
      "metadata": {
        "id": "DfH3fzIYatkA"
      },
      "source": [
        "numerical_col=['RISK','totChol', 'bp_ratio','sysBP', 'BMI', 'heartRate', 'glucose']"
      ],
      "execution_count": 45,
      "outputs": []
    },
    {
      "cell_type": "code",
      "metadata": {
        "colab": {
          "base_uri": "https://localhost:8080/",
          "height": 309
        },
        "id": "FGgxoEdva3xM",
        "outputId": "4f9e6b24-7806-401e-c83b-6d460038d826"
      },
      "source": [
        "#correlation matrix between numerical variables and RISK of getting heart disease\n",
        "g= sns.heatmap(train_df[numerical_col].corr(),annot=True,fmt='.2f',cmap='coolwarm')"
      ],
      "execution_count": 46,
      "outputs": [
        {
          "output_type": "display_data",
          "data": {
            "image/png": "[encoded data removed]",
            "text/plain": [
              "<Figure size 432x288 with 2 Axes>"
            ]
          },
          "metadata": {
            "needs_background": "light"
          }
        }
      ]
    },
    {
      "cell_type": "markdown",
      "metadata": {
        "id": "Oxxia6s7bBLN"
      },
      "source": [
        "Apparently there is no direct linear relationship between the numerical features and Risk of getting heart disease."
      ]
    },
    {
      "cell_type": "markdown",
      "metadata": {
        "id": "qJ-zYqFibGyS"
      },
      "source": [
        "# **Checking for 'prevalentStroke' and 'prevalentHyp' cases with respect to Risk of getting disease.**"
      ]
    },
    {
      "cell_type": "code",
      "metadata": {
        "colab": {
          "base_uri": "https://localhost:8080/",
          "height": 721
        },
        "id": "_pgVWanTbAyK",
        "outputId": "43fc354c-a308-413e-f7a6-769f004f71e8"
      },
      "source": [
        "ax=sns.factorplot('prevalentStroke','RISK',kind='bar',\n",
        "                    data=train_df,size=5,aspect=0.4)\n",
        "ax=ax.set_ylabels(\"RISK Probability\")\n",
        "ax=sns.factorplot('prevalentHyp','RISK',kind='bar',\n",
        "                    data=train_df,size=5,aspect=0.4)\n",
        "ax=ax.set_ylabels(\"RISK Probability\")"
      ],
      "execution_count": 47,
      "outputs": [
        {
          "output_type": "display_data",
          "data": {
            "image/png": "[encoded data removed]",
            "text/plain": [
              "<Figure size 144x360 with 1 Axes>"
            ]
          },
          "metadata": {
            "needs_background": "light"
          }
        },
        {
          "output_type": "display_data",
          "data": {
            "image/png": "[encoded data removed]",
            "text/plain": [
              "<Figure size 144x360 with 1 Axes>"
            ]
          },
          "metadata": {
            "needs_background": "light"
          }
        }
      ]
    },
    {
      "cell_type": "markdown",
      "metadata": {
        "id": "SeX4Ri0YbShp"
      },
      "source": [
        "# **INSIGHTS:**\n",
        "\n",
        "People who had earlier got a stroke and Hypertension have high chance of getting the heart disease."
      ]
    },
    {
      "cell_type": "markdown",
      "metadata": {
        "id": "h-lh75ydbamc"
      },
      "source": [
        "# **lets check how this Feature Education is related with heart disease**"
      ]
    },
    {
      "cell_type": "code",
      "metadata": {
        "colab": {
          "base_uri": "https://localhost:8080/",
          "height": 313
        },
        "id": "fV2pI_64a7mY",
        "outputId": "e70fd3b5-be80-41a5-8ba5-ae92afcae613"
      },
      "source": [
        "at_risk = \"At risk\"\n",
        "no_risk= \"No risk\"\n",
        "ax=sns.distplot(train_df[train_df['RISK']==1].education,bins=18,label=at_risk,color='b',kde=False)\n",
        "ax=sns.distplot(train_df[train_df['RISK']==0].education,bins=18,label=no_risk,color='g',kde=False)\n",
        "ax.legend()\n",
        "ax.set_title('Education')"
      ],
      "execution_count": 48,
      "outputs": [
        {
          "output_type": "execute_result",
          "data": {
            "text/plain": [
              "Text(0.5, 1.0, 'Education')"
            ]
          },
          "metadata": {},
          "execution_count": 48
        },
        {
          "output_type": "display_data",
          "data": {
            "image/png": "[encoded data removed]",
            "text/plain": [
              "<Figure size 432x288 with 1 Axes>"
            ]
          },
          "metadata": {
            "needs_background": "light"
          }
        }
      ]
    },
    {
      "cell_type": "markdown",
      "metadata": {
        "id": "5Y6nZMJRbpcQ"
      },
      "source": [
        "# **INSIGHTS:**\n",
        "\n",
        "Not much we can intrepret but we can say people with lower education level are at higher risk of getting heart disease"
      ]
    },
    {
      "cell_type": "markdown",
      "metadata": {
        "id": "EkTZOzExb2EH"
      },
      "source": [
        "# **4. Feature Engineering**\n",
        "\n",
        "---\n",
        "\n"
      ]
    },
    {
      "cell_type": "markdown",
      "metadata": {
        "id": "ks4RY6eub8ul"
      },
      "source": [
        "# **AGE**\n",
        "\n",
        "*   From the above EDA we try to establish some patterns which influence the cause of heart disease in that we found people both men and women lying in a particular age group 40-42, 50-51 are more prone to heart disease.\n",
        "*   So what I want to try is to create age buckets of population e.g 18-25 -> 20s, 25-40 -> Mid30s etc in this way we can target the particular age group which have high risk of Heart disease\n",
        "\n"
      ]
    },
    {
      "cell_type": "code",
      "metadata": {
        "colab": {
          "base_uri": "https://localhost:8080/"
        },
        "id": "LyyBTQblbeVW",
        "outputId": "01a45895-bc3e-483d-c2ab-8d8aa28d2eb8"
      },
      "source": [
        "train_df.age.describe()"
      ],
      "execution_count": 49,
      "outputs": [
        {
          "output_type": "execute_result",
          "data": {
            "text/plain": [
              "count    2712.000000\n",
              "mean       49.580015\n",
              "std         8.585428\n",
              "min        32.000000\n",
              "25%        42.000000\n",
              "50%        49.000000\n",
              "75%        56.250000\n",
              "max        70.000000\n",
              "Name: age, dtype: float64"
            ]
          },
          "metadata": {},
          "execution_count": 49
        }
      ]
    },
    {
      "cell_type": "code",
      "metadata": {
        "id": "codo1_UqcKah"
      },
      "source": [
        "ldf=[train_df,final_testX]\n",
        "for df in ldf:\n",
        "  df['Age_Bucket']=pd.cut(df.age,bins=10,labels=['Early30','Mid30','Early40','Mid40','late40',\n",
        "                                               'Early50','Mid50','late50','Mid60','late60'])"
      ],
      "execution_count": 50,
      "outputs": []
    },
    {
      "cell_type": "code",
      "metadata": {
        "colab": {
          "base_uri": "https://localhost:8080/"
        },
        "id": "wAbAqz1ccPFj",
        "outputId": "e2b615c8-e745-415d-9283-df0a93192058"
      },
      "source": [
        "ldf=[train_df,final_testX]\n",
        "for df in ldf:\n",
        "  print(df[\"Age_Bucket\"].value_counts())\n",
        "  print('-'*100)"
      ],
      "execution_count": 51,
      "outputs": [
        {
          "output_type": "stream",
          "name": "stdout",
          "text": [
            "Early40    475\n",
            "Mid40      407\n",
            "late40     365\n",
            "Mid50      320\n",
            "Mid30      315\n",
            "late50     286\n",
            "Early50    275\n",
            "Mid60      192\n",
            "late60      45\n",
            "Early30     32\n",
            "Name: Age_Bucket, dtype: int64\n",
            "----------------------------------------------------------------------------------------------------\n",
            "Mid40      107\n",
            "late40     102\n",
            "Mid30       96\n",
            "Mid50       80\n",
            "Early40     74\n",
            "Early50     64\n",
            "Mid60       59\n",
            "late50      55\n",
            "Early30     28\n",
            "late60      13\n",
            "Name: Age_Bucket, dtype: int64\n",
            "----------------------------------------------------------------------------------------------------\n"
          ]
        }
      ]
    },
    {
      "cell_type": "code",
      "metadata": {
        "colab": {
          "base_uri": "https://localhost:8080/",
          "height": 297
        },
        "id": "KdIrqOv3cUeB",
        "outputId": "d581808d-1cce-4cb0-ae09-94428cc2b757"
      },
      "source": [
        "ax=sns.factorplot('Age_Bucket','RISK',kind='bar',\n",
        "                    data=train_df,size=4,aspect=1.5)\n",
        "ax=ax.set_ylabels(\"RISK Probability\")"
      ],
      "execution_count": 52,
      "outputs": [
        {
          "output_type": "display_data",
          "data": {
            "image/png": "[encoded data removed]",
            "text/plain": [
              "<Figure size 432x288 with 1 Axes>"
            ]
          },
          "metadata": {
            "needs_background": "light"
          }
        }
      ]
    },
    {
      "cell_type": "markdown",
      "metadata": {
        "id": "f14dXD02cn46"
      },
      "source": [
        "# **INSIGHTS:**\n",
        "Now we are seeing some good info both on training and testing data, **as the age of person increase risk of getting Heart Disease Increases**"
      ]
    },
    {
      "cell_type": "markdown",
      "metadata": {
        "id": "3oKg9dItc_Df"
      },
      "source": [
        "# **BP Bucket**\n",
        "Just out of a common thought a lot many people told highBP leads to high disease lets check"
      ]
    },
    {
      "cell_type": "code",
      "metadata": {
        "id": "ZiWgaenickZc"
      },
      "source": [
        "ldf=[train_df,final_testX]\n",
        "for df in ldf:\n",
        "  df['BP_Bucket']= pd.cut(df.sysBP,bins=5,labels=['Very_Low_BP','lowBP','healthyBP','HighBP','Very_high_BP'])"
      ],
      "execution_count": 54,
      "outputs": []
    },
    {
      "cell_type": "code",
      "metadata": {
        "colab": {
          "base_uri": "https://localhost:8080/"
        },
        "id": "FpUrmakHdL3t",
        "outputId": "70ee91ac-10bf-4f19-8694-b3fe58b81e4a"
      },
      "source": [
        "train_df['BP_Bucket'].value_counts()"
      ],
      "execution_count": 55,
      "outputs": [
        {
          "output_type": "execute_result",
          "data": {
            "text/plain": [
              "healthyBP       1084\n",
              "lowBP            919\n",
              "HighBP           425\n",
              "Very_high_BP     157\n",
              "Very_Low_BP      127\n",
              "Name: BP_Bucket, dtype: int64"
            ]
          },
          "metadata": {},
          "execution_count": 55
        }
      ]
    },
    {
      "cell_type": "code",
      "metadata": {
        "colab": {
          "base_uri": "https://localhost:8080/",
          "height": 297
        },
        "id": "TBtbb09vdOv8",
        "outputId": "39a4152e-7a22-471b-cd8e-1dd62ece5e13"
      },
      "source": [
        "ax=sns.factorplot('BP_Bucket','RISK',kind='bar',data=train_df,size=4,aspect=1.5)\n",
        "ax=ax.set_ylabels(\"RISK Probability\")"
      ],
      "execution_count": 56,
      "outputs": [
        {
          "output_type": "display_data",
          "data": {
            "image/png": "[encoded data removed]",
            "text/plain": [
              "<Figure size 432x288 with 1 Axes>"
            ]
          },
          "metadata": {
            "needs_background": "light"
          }
        }
      ]
    },
    {
      "cell_type": "markdown",
      "metadata": {
        "id": "inR_uOtJiu19"
      },
      "source": [
        "# **EDA CONCLUSIONS**\n",
        "\n",
        "---\n",
        "Due to the imbalanced nature of the data set it was difficult to make conclusions but based on what is observed but these are the conclusions that could be drawn:\n",
        "\n",
        "\n",
        "1.   Slightly more males are suffering from CHD than females.\n",
        "2.   The percentage of people who have CHD is almost equal between smokers and non smokers.\n",
        "\n",
        "1.   The percentage of people who have CHD is higher among the diabetic, and those with prevalent hypertension as compared to those who don’t have similar morbidities.\n",
        "2.   A larger percentage of the people who have CHD are on blood pressure medication.\n",
        "\n",
        "1.   Another interesting trend I checked for was the distribution of the ages of the people who had CHD and the number of the sick generally increased with age with the peak being at 63 years old.\n",
        "\n",
        "\n",
        "---\n",
        "\n",
        "\n",
        "\n",
        "\n",
        "\n",
        "\n",
        "\n",
        "\n"
      ]
    },
    {
      "cell_type": "code",
      "metadata": {
        "id": "wTELDrLddXda"
      },
      "source": [
        "df=train_df.copy()\n",
        "fdf=final_testX.copy()"
      ],
      "execution_count": 61,
      "outputs": []
    },
    {
      "cell_type": "code",
      "metadata": {
        "colab": {
          "base_uri": "https://localhost:8080/",
          "height": 319
        },
        "id": "xR-eI5SBjOrt",
        "outputId": "6f5ecc4a-9e37-4068-9616-a7c5fcee61ff"
      },
      "source": [
        "labels = 'Non Risk',\"Risk\"\n",
        "my_colors = ['lightblue','red']\n",
        "my_explode = (0,0.1)\n",
        "plt.figure(figsize=(6,5))\n",
        "plt.pie(train_df['RISK'].value_counts(), labels=labels ,autopct='%1.0f%%', startangle =15, shadow =True, colors = my_colors, explode=my_explode )\n",
        "plt.title(\"Cardiovascular Risk rate\")\n",
        "plt.axis('equal')\n",
        "plt.show()"
      ],
      "execution_count": 62,
      "outputs": [
        {
          "output_type": "display_data",
          "data": {
            "image/png": "[encoded data removed]",
            "text/plain": [
              "<Figure size 432x360 with 1 Axes>"
            ]
          },
          "metadata": {}
        }
      ]
    },
    {
      "cell_type": "markdown",
      "metadata": {
        "id": "2b4nvEHDjVCg"
      },
      "source": [
        "# **5.Class Imbalanced issue and Evaluation-metric to be chosen**\n",
        "\n",
        "---\n",
        "\n",
        "# **In this problem we have a dataset of patients where we have to find out whether the given features or symptom a person has he/she has a Cardiovascular disease in future.**\n",
        "\n",
        "But here’s the catch… the risk rate is relatively rare, only 15% of the people have this disease.\n",
        "\n",
        "Well, let's guess what? We created a ML model and our “solution” would have 94% accuracy!\n",
        "\n",
        "Unfortunately, that accuracy is misleading.\n",
        " *   All those non-risk cases, we’d have 100% accuracy.\n",
        " *   Those cases in which a person has a risk, we’d have 0% accuracy.\n",
        " *   Our overall accuracy would be high simply because the most cases are not getting the disease.\n",
        "\n",
        "This is clearly a problem because many machine learning algorithms are designed to maximize overall accuracy.\n",
        "\n",
        "# **The Metric Trap**\n",
        "\n",
        "One of the major issues when dealing with unbalanced datasets relates to the metrics used to evaluate their model. Using simpler metrics like accuracy score can be misleading. In a dataset with highly unbalanced classes, the classifier will always “predict” the most common class without performing any analysis of the features and it will have a high accuracy rate, obviously not the correct one.\n",
        "\n",
        "# **For the given binary classification problem Recall of the ML model should be very high.**\n",
        "The False Negative or TypeII error should be zero\n",
        "\n",
        "# **Resampling Techniques**\n",
        "A widely adopted technique for dealing with highly unbalanced datasets is called resampling. It consists of removing samples from the majority class (under-sampling) and/or adding more examples from the minority class (over-sampling).\n",
        "\n",
        "![image.png](data:image/png;base64,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)\n",
        "\n",
        "\n"
      ]
    },
    {
      "cell_type": "markdown",
      "metadata": {
        "id": "YXMjfYC4kzFt"
      },
      "source": [
        "# **Random Over-Sampling**\n",
        "Oversampling can be defined as adding more copies to the minority class. Oversampling can be a good choice when you don’t have a ton of data to work with.\n",
        "\n",
        "A con to consider when undersampling is that it can cause overfitting and poor generalization to your test set."
      ]
    },
    {
      "cell_type": "markdown",
      "metadata": {
        "id": "3xv9S0tplJgm"
      },
      "source": [
        "# **6.Model Trainning**\n",
        "\n",
        "---\n",
        "\n",
        "**Preprocessing**\n",
        "\n",
        "Encoding the binary categorical features"
      ]
    },
    {
      "cell_type": "code",
      "metadata": {
        "colab": {
          "base_uri": "https://localhost:8080/"
        },
        "id": "eqk4PSFhjRjj",
        "outputId": "56dd5a0f-d00e-4665-eda9-088434e01fe2"
      },
      "source": [
        "[{col:train_df[col].unique()} for col in categorical_columns]"
      ],
      "execution_count": 63,
      "outputs": [
        {
          "output_type": "execute_result",
          "data": {
            "text/plain": [
              "[{'sex': array(['F', 'M'], dtype=object)},\n",
              " {'is_smoking': array(['YES', 'NO'], dtype=object)}]"
            ]
          },
          "metadata": {},
          "execution_count": 63
        }
      ]
    },
    {
      "cell_type": "code",
      "metadata": {
        "id": "ViTWFvyjk6Qj"
      },
      "source": [
        "def preprocess_inputs(df):\n",
        "  df=df.copy()\n",
        "  #binary encoding\n",
        "  df['sex']= df['sex'].apply(lambda x: 1 if x=='M' else 0)\n",
        "  df['is_smoking']= df['is_smoking'].apply(lambda x: 1 if x=='YES' else 0)\n",
        "\n",
        "  #Extract numerical features\n",
        "  num_df= df.select_dtypes(include=['int8','int32','int64','float64'])\n",
        "\n",
        "  #Extract categorical features\n",
        "  cat_df= df.select_dtypes(include=['category','object'])\n",
        "\n",
        "  #One hot encode categorical variables\n",
        "  features_cat= pd.get_dummies(cat_df,drop_first=True)\n",
        "\n",
        "  #concat the features\n",
        "  df= pd.concat([num_df,features_cat],axis=1)\n",
        "  \n",
        "  return df"
      ],
      "execution_count": 64,
      "outputs": []
    },
    {
      "cell_type": "code",
      "metadata": {
        "id": "kq_mTnN-lmM7"
      },
      "source": [
        "train_data= preprocess_inputs(train_df)\n",
        "test_data= preprocess_inputs(final_testX)"
      ],
      "execution_count": 65,
      "outputs": []
    },
    {
      "cell_type": "code",
      "metadata": {
        "colab": {
          "base_uri": "https://localhost:8080/",
          "height": 226
        },
        "id": "FfMVWmJTlrNp",
        "outputId": "e8a02b91-4e55-42c1-a3a3-0c0015d5895b"
      },
      "source": [
        "train_data.head()"
      ],
      "execution_count": 66,
      "outputs": [
        {
          "output_type": "execute_result",
          "data": {
            "text/html": [
              "<div>\n",
              "<style scoped>\n",
              "    .dataframe tbody tr th:only-of-type {\n",
              "        vertical-align: middle;\n",
              "    }\n",
              "\n",
              "    .dataframe tbody tr th {\n",
              "        vertical-align: top;\n",
              "    }\n",
              "\n",
              "    .dataframe thead th {\n",
              "        text-align: right;\n",
              "    }\n",
              "</style>\n",
              "<table border=\"1\" class=\"dataframe\">\n",
              "  <thead>\n",
              "    <tr style=\"text-align: right;\">\n",
              "      <th></th>\n",
              "      <th>age</th>\n",
              "      <th>education</th>\n",
              "      <th>sex</th>\n",
              "      <th>is_smoking</th>\n",
              "      <th>cigsPerDay</th>\n",
              "      <th>BPMeds</th>\n",
              "      <th>totChol</th>\n",
              "      <th>sysBP</th>\n",
              "      <th>BMI</th>\n",
              "      <th>heartRate</th>\n",
              "      <th>glucose</th>\n",
              "      <th>RISK</th>\n",
              "      <th>bp_ratio</th>\n",
              "      <th>prevalentStroke_1.0</th>\n",
              "      <th>prevalentHyp_1.0</th>\n",
              "      <th>diabetes_1.0</th>\n",
              "      <th>Age_Bucket_Mid30</th>\n",
              "      <th>Age_Bucket_Early40</th>\n",
              "      <th>Age_Bucket_Mid40</th>\n",
              "      <th>Age_Bucket_late40</th>\n",
              "      <th>Age_Bucket_Early50</th>\n",
              "      <th>Age_Bucket_Mid50</th>\n",
              "      <th>Age_Bucket_late50</th>\n",
              "      <th>Age_Bucket_Mid60</th>\n",
              "      <th>Age_Bucket_late60</th>\n",
              "      <th>BP_Bucket_lowBP</th>\n",
              "      <th>BP_Bucket_healthyBP</th>\n",
              "      <th>BP_Bucket_HighBP</th>\n",
              "      <th>BP_Bucket_Very_high_BP</th>\n",
              "    </tr>\n",
              "  </thead>\n",
              "  <tbody>\n",
              "    <tr>\n",
              "      <th>542</th>\n",
              "      <td>49.0</td>\n",
              "      <td>2.0</td>\n",
              "      <td>0</td>\n",
              "      <td>1</td>\n",
              "      <td>20</td>\n",
              "      <td>0.0</td>\n",
              "      <td>229.0</td>\n",
              "      <td>118.5</td>\n",
              "      <td>21.42</td>\n",
              "      <td>76.0</td>\n",
              "      <td>72.333333</td>\n",
              "      <td>0</td>\n",
              "      <td>1.55</td>\n",
              "      <td>0</td>\n",
              "      <td>0</td>\n",
              "      <td>0</td>\n",
              "      <td>0</td>\n",
              "      <td>0</td>\n",
              "      <td>0</td>\n",
              "      <td>1</td>\n",
              "      <td>0</td>\n",
              "      <td>0</td>\n",
              "      <td>0</td>\n",
              "      <td>0</td>\n",
              "      <td>0</td>\n",
              "      <td>1</td>\n",
              "      <td>0</td>\n",
              "      <td>0</td>\n",
              "      <td>0</td>\n",
              "    </tr>\n",
              "    <tr>\n",
              "      <th>2726</th>\n",
              "      <td>51.0</td>\n",
              "      <td>3.0</td>\n",
              "      <td>1</td>\n",
              "      <td>0</td>\n",
              "      <td>0</td>\n",
              "      <td>0.0</td>\n",
              "      <td>215.0</td>\n",
              "      <td>147.0</td>\n",
              "      <td>28.59</td>\n",
              "      <td>65.0</td>\n",
              "      <td>100.000000</td>\n",
              "      <td>0</td>\n",
              "      <td>1.53</td>\n",
              "      <td>0</td>\n",
              "      <td>0</td>\n",
              "      <td>0</td>\n",
              "      <td>0</td>\n",
              "      <td>0</td>\n",
              "      <td>0</td>\n",
              "      <td>1</td>\n",
              "      <td>0</td>\n",
              "      <td>0</td>\n",
              "      <td>0</td>\n",
              "      <td>0</td>\n",
              "      <td>0</td>\n",
              "      <td>0</td>\n",
              "      <td>0</td>\n",
              "      <td>1</td>\n",
              "      <td>0</td>\n",
              "    </tr>\n",
              "    <tr>\n",
              "      <th>3067</th>\n",
              "      <td>57.0</td>\n",
              "      <td>1.0</td>\n",
              "      <td>0</td>\n",
              "      <td>1</td>\n",
              "      <td>1</td>\n",
              "      <td>0.0</td>\n",
              "      <td>254.0</td>\n",
              "      <td>146.5</td>\n",
              "      <td>25.38</td>\n",
              "      <td>72.0</td>\n",
              "      <td>85.000000</td>\n",
              "      <td>1</td>\n",
              "      <td>1.81</td>\n",
              "      <td>0</td>\n",
              "      <td>1</td>\n",
              "      <td>0</td>\n",
              "      <td>0</td>\n",
              "      <td>0</td>\n",
              "      <td>0</td>\n",
              "      <td>0</td>\n",
              "      <td>0</td>\n",
              "      <td>1</td>\n",
              "      <td>0</td>\n",
              "      <td>0</td>\n",
              "      <td>0</td>\n",
              "      <td>0</td>\n",
              "      <td>0</td>\n",
              "      <td>1</td>\n",
              "      <td>0</td>\n",
              "    </tr>\n",
              "    <tr>\n",
              "      <th>204</th>\n",
              "      <td>59.0</td>\n",
              "      <td>4.0</td>\n",
              "      <td>0</td>\n",
              "      <td>0</td>\n",
              "      <td>0</td>\n",
              "      <td>1.0</td>\n",
              "      <td>282.0</td>\n",
              "      <td>135.0</td>\n",
              "      <td>28.96</td>\n",
              "      <td>72.0</td>\n",
              "      <td>85.666667</td>\n",
              "      <td>0</td>\n",
              "      <td>1.55</td>\n",
              "      <td>0</td>\n",
              "      <td>1</td>\n",
              "      <td>0</td>\n",
              "      <td>0</td>\n",
              "      <td>0</td>\n",
              "      <td>0</td>\n",
              "      <td>0</td>\n",
              "      <td>0</td>\n",
              "      <td>0</td>\n",
              "      <td>1</td>\n",
              "      <td>0</td>\n",
              "      <td>0</td>\n",
              "      <td>0</td>\n",
              "      <td>1</td>\n",
              "      <td>0</td>\n",
              "      <td>0</td>\n",
              "    </tr>\n",
              "    <tr>\n",
              "      <th>329</th>\n",
              "      <td>52.0</td>\n",
              "      <td>1.0</td>\n",
              "      <td>0</td>\n",
              "      <td>0</td>\n",
              "      <td>0</td>\n",
              "      <td>0.0</td>\n",
              "      <td>275.0</td>\n",
              "      <td>112.0</td>\n",
              "      <td>25.68</td>\n",
              "      <td>80.0</td>\n",
              "      <td>82.000000</td>\n",
              "      <td>0</td>\n",
              "      <td>1.58</td>\n",
              "      <td>0</td>\n",
              "      <td>0</td>\n",
              "      <td>0</td>\n",
              "      <td>0</td>\n",
              "      <td>0</td>\n",
              "      <td>0</td>\n",
              "      <td>0</td>\n",
              "      <td>1</td>\n",
              "      <td>0</td>\n",
              "      <td>0</td>\n",
              "      <td>0</td>\n",
              "      <td>0</td>\n",
              "      <td>1</td>\n",
              "      <td>0</td>\n",
              "      <td>0</td>\n",
              "      <td>0</td>\n",
              "    </tr>\n",
              "  </tbody>\n",
              "</table>\n",
              "</div>"
            ],
            "text/plain": [
              "       age  education  ...  BP_Bucket_HighBP  BP_Bucket_Very_high_BP\n",
              "542   49.0        2.0  ...                 0                       0\n",
              "2726  51.0        3.0  ...                 1                       0\n",
              "3067  57.0        1.0  ...                 1                       0\n",
              "204   59.0        4.0  ...                 0                       0\n",
              "329   52.0        1.0  ...                 0                       0\n",
              "\n",
              "[5 rows x 29 columns]"
            ]
          },
          "metadata": {},
          "execution_count": 66
        }
      ]
    },
    {
      "cell_type": "markdown",
      "metadata": {
        "id": "It-ECJsclyn1"
      },
      "source": [
        "# **Data Ready to be feeden**"
      ]
    },
    {
      "cell_type": "code",
      "metadata": {
        "id": "gF3c5oX2ltau"
      },
      "source": [
        "#scaling\n",
        "from sklearn.preprocessing import StandardScaler\n",
        "#Sampling\n",
        "from imblearn.over_sampling import RandomOverSampler\n",
        "from imblearn.over_sampling import SMOTE\n",
        "\n",
        "# Evaluation metrics\n",
        "from sklearn import model_selection\n",
        "from sklearn.model_selection import train_test_split\n",
        "from sklearn.model_selection import StratifiedKFold\n",
        "from sklearn.model_selection import RepeatedStratifiedKFold\n",
        "from sklearn.model_selection import StratifiedShuffleSplit\n",
        "from sklearn.model_selection import KFold\n",
        "from sklearn.metrics import f1_score, confusion_matrix,classification_report\n",
        "from sklearn.model_selection import GridSearchCV, RandomizedSearchCV\n",
        "from sklearn.model_selection import KFold\n",
        "from sklearn.metrics import plot_roc_curve\n",
        "import sklearn.metrics as metrics\n",
        "\n",
        "# Import the necessary modelling algos.\n",
        "from sklearn.linear_model import LogisticRegression, LogisticRegressionCV\n",
        "from sklearn.svm import LinearSVC\n",
        "from sklearn.svm import SVC\n",
        "from sklearn.neighbors import KNeighborsClassifier\n",
        "from sklearn.ensemble import RandomForestClassifier, AdaBoostClassifier,GradientBoostingClassifier\n",
        "from sklearn.tree import DecisionTreeClassifier\n",
        "from xgboost import XGBClassifier\n",
        "from sklearn.naive_bayes import GaussianNB"
      ],
      "execution_count": 67,
      "outputs": []
    },
    {
      "cell_type": "code",
      "metadata": {
        "id": "PH8Q17Lil5k9"
      },
      "source": [
        "#Features and Target\n",
        "X= train_data.drop('RISK',axis=1)\n",
        "y=train_data['RISK']"
      ],
      "execution_count": 68,
      "outputs": []
    },
    {
      "cell_type": "markdown",
      "metadata": {
        "id": "qK-OUZ6BmBkk"
      },
      "source": [
        "# **Applying Random Oversampler**"
      ]
    },
    {
      "cell_type": "code",
      "metadata": {
        "colab": {
          "base_uri": "https://localhost:8080/"
        },
        "id": "HQINqDCsl9XW",
        "outputId": "e64b52be-8d91-44eb-d403-4b2b1df8e650"
      },
      "source": [
        "ros = RandomOverSampler(random_state=0)\n",
        "\n",
        "# fit predictor and target variable\n",
        "x_ros, y_ros = ros.fit_resample(X,y)\n",
        "\n",
        "print('Original dataset shape', len(y))\n",
        "print('Resampled dataset shape', len(y_ros))"
      ],
      "execution_count": 69,
      "outputs": [
        {
          "output_type": "stream",
          "name": "stdout",
          "text": [
            "Original dataset shape 2712\n",
            "Resampled dataset shape 4606\n"
          ]
        }
      ]
    },
    {
      "cell_type": "code",
      "metadata": {
        "id": "Peh_3aCNmGzU"
      },
      "source": [
        "#scaling both Train ,test and validation sets\n",
        "sc_X= StandardScaler()\n",
        "X_train=sc_X.fit_transform(x_ros)\n",
        "test_data=sc_X.fit_transform(test_data)"
      ],
      "execution_count": 70,
      "outputs": []
    },
    {
      "cell_type": "code",
      "metadata": {
        "colab": {
          "base_uri": "https://localhost:8080/",
          "height": 226
        },
        "id": "6nQPNGk3mTKn",
        "outputId": "fd8101c2-d5f9-47c6-c8e1-5760056cca91"
      },
      "source": [
        "#scaled dataframe\n",
        "pd.DataFrame(X_train,columns=X.columns).head()"
      ],
      "execution_count": 71,
      "outputs": [
        {
          "output_type": "execute_result",
          "data": {
            "text/html": [
              "<div>\n",
              "<style scoped>\n",
              "    .dataframe tbody tr th:only-of-type {\n",
              "        vertical-align: middle;\n",
              "    }\n",
              "\n",
              "    .dataframe tbody tr th {\n",
              "        vertical-align: top;\n",
              "    }\n",
              "\n",
              "    .dataframe thead th {\n",
              "        text-align: right;\n",
              "    }\n",
              "</style>\n",
              "<table border=\"1\" class=\"dataframe\">\n",
              "  <thead>\n",
              "    <tr style=\"text-align: right;\">\n",
              "      <th></th>\n",
              "      <th>age</th>\n",
              "      <th>education</th>\n",
              "      <th>sex</th>\n",
              "      <th>is_smoking</th>\n",
              "      <th>cigsPerDay</th>\n",
              "      <th>BPMeds</th>\n",
              "      <th>totChol</th>\n",
              "      <th>sysBP</th>\n",
              "      <th>BMI</th>\n",
              "      <th>heartRate</th>\n",
              "      <th>glucose</th>\n",
              "      <th>bp_ratio</th>\n",
              "      <th>prevalentStroke_1.0</th>\n",
              "      <th>prevalentHyp_1.0</th>\n",
              "      <th>diabetes_1.0</th>\n",
              "      <th>Age_Bucket_Mid30</th>\n",
              "      <th>Age_Bucket_Early40</th>\n",
              "      <th>Age_Bucket_Mid40</th>\n",
              "      <th>Age_Bucket_late40</th>\n",
              "      <th>Age_Bucket_Early50</th>\n",
              "      <th>Age_Bucket_Mid50</th>\n",
              "      <th>Age_Bucket_late50</th>\n",
              "      <th>Age_Bucket_Mid60</th>\n",
              "      <th>Age_Bucket_late60</th>\n",
              "      <th>BP_Bucket_lowBP</th>\n",
              "      <th>BP_Bucket_healthyBP</th>\n",
              "      <th>BP_Bucket_HighBP</th>\n",
              "      <th>BP_Bucket_Very_high_BP</th>\n",
              "    </tr>\n",
              "  </thead>\n",
              "  <tbody>\n",
              "    <tr>\n",
              "      <th>0</th>\n",
              "      <td>-0.278825</td>\n",
              "      <td>0.078979</td>\n",
              "      <td>-0.959566</td>\n",
              "      <td>0.966686</td>\n",
              "      <td>0.838818</td>\n",
              "      <td>-0.223524</td>\n",
              "      <td>-0.235106</td>\n",
              "      <td>-0.770255</td>\n",
              "      <td>-1.185870</td>\n",
              "      <td>0.037426</td>\n",
              "      <td>-0.609493</td>\n",
              "      <td>-0.319776</td>\n",
              "      <td>-0.105813</td>\n",
              "      <td>-0.784946</td>\n",
              "      <td>-0.203408</td>\n",
              "      <td>-0.30372</td>\n",
              "      <td>-0.414022</td>\n",
              "      <td>-0.373544</td>\n",
              "      <td>2.540290</td>\n",
              "      <td>-0.352862</td>\n",
              "      <td>-0.410417</td>\n",
              "      <td>-0.378433</td>\n",
              "      <td>-0.335901</td>\n",
              "      <td>-0.156417</td>\n",
              "      <td>1.543305</td>\n",
              "      <td>-0.818196</td>\n",
              "      <td>-0.482907</td>\n",
              "      <td>-0.293368</td>\n",
              "    </tr>\n",
              "    <tr>\n",
              "      <th>1</th>\n",
              "      <td>-0.048834</td>\n",
              "      <td>1.060386</td>\n",
              "      <td>1.042138</td>\n",
              "      <td>-1.034462</td>\n",
              "      <td>-0.802855</td>\n",
              "      <td>-0.223524</td>\n",
              "      <td>-0.573427</td>\n",
              "      <td>0.722649</td>\n",
              "      <td>0.806895</td>\n",
              "      <td>-0.978770</td>\n",
              "      <td>2.091705</td>\n",
              "      <td>-0.428980</td>\n",
              "      <td>-0.105813</td>\n",
              "      <td>-0.784946</td>\n",
              "      <td>-0.203408</td>\n",
              "      <td>-0.30372</td>\n",
              "      <td>-0.414022</td>\n",
              "      <td>-0.373544</td>\n",
              "      <td>2.540290</td>\n",
              "      <td>-0.352862</td>\n",
              "      <td>-0.410417</td>\n",
              "      <td>-0.378433</td>\n",
              "      <td>-0.335901</td>\n",
              "      <td>-0.156417</td>\n",
              "      <td>-0.647960</td>\n",
              "      <td>-0.818196</td>\n",
              "      <td>2.070791</td>\n",
              "      <td>-0.293368</td>\n",
              "    </tr>\n",
              "    <tr>\n",
              "      <th>2</th>\n",
              "      <td>0.641138</td>\n",
              "      <td>-0.902429</td>\n",
              "      <td>-0.959566</td>\n",
              "      <td>0.966686</td>\n",
              "      <td>-0.720771</td>\n",
              "      <td>-0.223524</td>\n",
              "      <td>0.369037</td>\n",
              "      <td>0.696458</td>\n",
              "      <td>-0.085264</td>\n",
              "      <td>-0.332100</td>\n",
              "      <td>0.627200</td>\n",
              "      <td>1.099876</td>\n",
              "      <td>-0.105813</td>\n",
              "      <td>1.273973</td>\n",
              "      <td>-0.203408</td>\n",
              "      <td>-0.30372</td>\n",
              "      <td>-0.414022</td>\n",
              "      <td>-0.373544</td>\n",
              "      <td>-0.393656</td>\n",
              "      <td>-0.352862</td>\n",
              "      <td>2.436544</td>\n",
              "      <td>-0.378433</td>\n",
              "      <td>-0.335901</td>\n",
              "      <td>-0.156417</td>\n",
              "      <td>-0.647960</td>\n",
              "      <td>-0.818196</td>\n",
              "      <td>2.070791</td>\n",
              "      <td>-0.293368</td>\n",
              "    </tr>\n",
              "    <tr>\n",
              "      <th>3</th>\n",
              "      <td>0.871129</td>\n",
              "      <td>2.041794</td>\n",
              "      <td>-0.959566</td>\n",
              "      <td>-1.034462</td>\n",
              "      <td>-0.802855</td>\n",
              "      <td>4.557674</td>\n",
              "      <td>1.045678</td>\n",
              "      <td>0.094058</td>\n",
              "      <td>0.909729</td>\n",
              "      <td>-0.332100</td>\n",
              "      <td>0.692289</td>\n",
              "      <td>-0.319776</td>\n",
              "      <td>-0.105813</td>\n",
              "      <td>1.273973</td>\n",
              "      <td>-0.203408</td>\n",
              "      <td>-0.30372</td>\n",
              "      <td>-0.414022</td>\n",
              "      <td>-0.373544</td>\n",
              "      <td>-0.393656</td>\n",
              "      <td>-0.352862</td>\n",
              "      <td>-0.410417</td>\n",
              "      <td>2.642474</td>\n",
              "      <td>-0.335901</td>\n",
              "      <td>-0.156417</td>\n",
              "      <td>-0.647960</td>\n",
              "      <td>1.222200</td>\n",
              "      <td>-0.482907</td>\n",
              "      <td>-0.293368</td>\n",
              "    </tr>\n",
              "    <tr>\n",
              "      <th>4</th>\n",
              "      <td>0.066161</td>\n",
              "      <td>-0.902429</td>\n",
              "      <td>-0.959566</td>\n",
              "      <td>-1.034462</td>\n",
              "      <td>-0.802855</td>\n",
              "      <td>-0.223524</td>\n",
              "      <td>0.876518</td>\n",
              "      <td>-1.110742</td>\n",
              "      <td>-0.001884</td>\n",
              "      <td>0.406952</td>\n",
              "      <td>0.334299</td>\n",
              "      <td>-0.155970</td>\n",
              "      <td>-0.105813</td>\n",
              "      <td>-0.784946</td>\n",
              "      <td>-0.203408</td>\n",
              "      <td>-0.30372</td>\n",
              "      <td>-0.414022</td>\n",
              "      <td>-0.373544</td>\n",
              "      <td>-0.393656</td>\n",
              "      <td>2.833968</td>\n",
              "      <td>-0.410417</td>\n",
              "      <td>-0.378433</td>\n",
              "      <td>-0.335901</td>\n",
              "      <td>-0.156417</td>\n",
              "      <td>1.543305</td>\n",
              "      <td>-0.818196</td>\n",
              "      <td>-0.482907</td>\n",
              "      <td>-0.293368</td>\n",
              "    </tr>\n",
              "  </tbody>\n",
              "</table>\n",
              "</div>"
            ],
            "text/plain": [
              "        age  education  ...  BP_Bucket_HighBP  BP_Bucket_Very_high_BP\n",
              "0 -0.278825   0.078979  ...         -0.482907               -0.293368\n",
              "1 -0.048834   1.060386  ...          2.070791               -0.293368\n",
              "2  0.641138  -0.902429  ...          2.070791               -0.293368\n",
              "3  0.871129   2.041794  ...         -0.482907               -0.293368\n",
              "4  0.066161  -0.902429  ...         -0.482907               -0.293368\n",
              "\n",
              "[5 rows x 28 columns]"
            ]
          },
          "metadata": {},
          "execution_count": 71
        }
      ]
    },
    {
      "cell_type": "markdown",
      "metadata": {
        "id": "wRZtdXBHmo1M"
      },
      "source": [
        "# **Algorithm being used**\n",
        "\n",
        " 1.   Logistic Regression\n",
        " 2.   Decision Tree\n",
        " 1.   K-Nearest Neighbors\n",
        " 2.   Support Vector Machine\n",
        "\n",
        "\n",
        "\n"
      ]
    },
    {
      "cell_type": "markdown",
      "metadata": {
        "id": "YVFiJfjjnMf3"
      },
      "source": [
        "# **1. Logistic Regression**"
      ]
    },
    {
      "cell_type": "code",
      "metadata": {
        "colab": {
          "base_uri": "https://localhost:8080/"
        },
        "id": "kaS7o-5SmkuH",
        "outputId": "4a7f0138-6e68-430e-ba47-735035647af8"
      },
      "source": [
        "lr = LogisticRegression()\n",
        "lr.fit(X_train,y_ros)\n",
        "pred=lr.predict(test_data)\n",
        "print(classification_report(final_testY,pred))\n"
      ],
      "execution_count": 72,
      "outputs": [
        {
          "output_type": "stream",
          "name": "stdout",
          "text": [
            "              precision    recall  f1-score   support\n",
            "\n",
            "           0       0.94      0.54      0.69       576\n",
            "           1       0.24      0.79      0.36       102\n",
            "\n",
            "    accuracy                           0.58       678\n",
            "   macro avg       0.59      0.67      0.53       678\n",
            "weighted avg       0.83      0.58      0.64       678\n",
            "\n"
          ]
        }
      ]
    },
    {
      "cell_type": "code",
      "metadata": {
        "colab": {
          "base_uri": "https://localhost:8080/",
          "height": 297
        },
        "id": "HgGfktoSnRqS",
        "outputId": "1f2a6167-47cc-479c-ccd3-b332790c1466"
      },
      "source": [
        "from sklearn.metrics import plot_roc_curve\n",
        "plt.figure(figsize=(15,8))\n",
        "svc_disp = plot_roc_curve(lr,test_data,final_testY)\n",
        "x,y=np.arange(0,1.1,0.1),np.arange(0,1.1,0.1)\n",
        "plt.plot(x,y,'b--',color='r')\n",
        "plt.show()"
      ],
      "execution_count": 73,
      "outputs": [
        {
          "output_type": "display_data",
          "data": {
            "text/plain": [
              "<Figure size 1080x576 with 0 Axes>"
            ]
          },
          "metadata": {}
        },
        {
          "output_type": "display_data",
          "data": {
            "image/png": "[encoded data removed]",
            "text/plain": [
              "<Figure size 432x288 with 1 Axes>"
            ]
          },
          "metadata": {
            "needs_background": "light"
          }
        }
      ]
    },
    {
      "cell_type": "markdown",
      "metadata": {
        "id": "bilFEZpdnjT6"
      },
      "source": [
        "# **Hypertuning Logistic Regression**"
      ]
    },
    {
      "cell_type": "code",
      "metadata": {
        "colab": {
          "base_uri": "https://localhost:8080/"
        },
        "id": "huSiao2engGh",
        "outputId": "d0d10f47-1cbd-42c6-f16c-3bfb0b546754"
      },
      "source": [
        "# define models and parameters\n",
        "model = LogisticRegression()\n",
        "solvers = ['newton-cg', 'lbfgs', 'liblinear']\n",
        "penalty = ['l2']\n",
        "c_values = [100, 10, 1.0, 0.1, 0.01]\n",
        "# define grid search\n",
        "grid = dict(solver=solvers,penalty=penalty,C=c_values)\n",
        "cv = RepeatedStratifiedKFold(n_splits=10, n_repeats=3, random_state=1)\n",
        "grid_search = GridSearchCV(estimator=model, param_grid=grid, n_jobs=10, cv=cv, scoring='f1',error_score=0,verbose=3)\n",
        "grid_result = grid_search.fit(X_train, y_ros)\n",
        "# summarize results\n",
        "print(\"Best: %f using %s\" % (grid_result.best_score_, grid_result.best_params_))"
      ],
      "execution_count": 74,
      "outputs": [
        {
          "output_type": "stream",
          "name": "stdout",
          "text": [
            "Fitting 30 folds for each of 15 candidates, totalling 450 fits\n"
          ]
        },
        {
          "output_type": "stream",
          "name": "stderr",
          "text": [
            "[Parallel(n_jobs=10)]: Using backend LokyBackend with 10 concurrent workers.\n",
            "[Parallel(n_jobs=10)]: Done  12 tasks      | elapsed:    3.8s\n",
            "[Parallel(n_jobs=10)]: Done 108 tasks      | elapsed:    7.7s\n",
            "[Parallel(n_jobs=10)]: Done 268 tasks      | elapsed:   12.5s\n"
          ]
        },
        {
          "output_type": "stream",
          "name": "stdout",
          "text": [
            "Best: 0.680190 using {'C': 0.01, 'penalty': 'l2', 'solver': 'newton-cg'}\n"
          ]
        },
        {
          "output_type": "stream",
          "name": "stderr",
          "text": [
            "[Parallel(n_jobs=10)]: Done 450 out of 450 | elapsed:   16.6s finished\n"
          ]
        }
      ]
    },
    {
      "cell_type": "code",
      "metadata": {
        "colab": {
          "base_uri": "https://localhost:8080/"
        },
        "id": "WGgzTbfZnsl0",
        "outputId": "5d668f61-5273-4073-db74-ab38e162962e"
      },
      "source": [
        "pred=grid_search.predict(test_data)\n",
        "print(classification_report(final_testY,pred))"
      ],
      "execution_count": 75,
      "outputs": [
        {
          "output_type": "stream",
          "name": "stdout",
          "text": [
            "              precision    recall  f1-score   support\n",
            "\n",
            "           0       0.93      0.57      0.70       576\n",
            "           1       0.24      0.77      0.37       102\n",
            "\n",
            "    accuracy                           0.60       678\n",
            "   macro avg       0.59      0.67      0.54       678\n",
            "weighted avg       0.83      0.60      0.65       678\n",
            "\n"
          ]
        }
      ]
    },
    {
      "cell_type": "code",
      "metadata": {
        "colab": {
          "base_uri": "https://localhost:8080/",
          "height": 297
        },
        "id": "IquXR3j0n4QQ",
        "outputId": "7c5688af-ce8e-41c3-d9dd-19b90ce853aa"
      },
      "source": [
        "from sklearn.metrics import plot_roc_curve\n",
        "plt.figure(figsize=(15,8))\n",
        "svc_disp = plot_roc_curve(grid_search,test_data,final_testY)\n",
        "x,y=np.arange(0,1.1,0.1),np.arange(0,1.1,0.1)\n",
        "plt.plot(x,y,'b--',color='r')\n",
        "plt.show()"
      ],
      "execution_count": 76,
      "outputs": [
        {
          "output_type": "display_data",
          "data": {
            "text/plain": [
              "<Figure size 1080x576 with 0 Axes>"
            ]
          },
          "metadata": {}
        },
        {
          "output_type": "display_data",
          "data": {
            "image/png": "[encoded data removed]",
            "text/plain": [
              "<Figure size 432x288 with 1 Axes>"
            ]
          },
          "metadata": {
            "needs_background": "light"
          }
        }
      ]
    },
    {
      "cell_type": "markdown",
      "metadata": {
        "id": "-AZbeLjeoHhO"
      },
      "source": [
        "We can see on hypertunning our LogisticRegression model we see there is improvement in recall but precision is still not better."
      ]
    },
    {
      "cell_type": "markdown",
      "metadata": {
        "id": "EmLTMjO4oKQ9"
      },
      "source": [
        "# **2. Decision Tree**"
      ]
    },
    {
      "cell_type": "code",
      "metadata": {
        "colab": {
          "base_uri": "https://localhost:8080/"
        },
        "id": "6586TNgCn8fP",
        "outputId": "10372633-32dd-48c6-a15a-a47155df350c"
      },
      "source": [
        "dt = DecisionTreeClassifier()\n",
        "dt.fit(X_train,y_ros)\n",
        "pred=dt.predict(test_data)\n",
        "print(classification_report(final_testY,pred))"
      ],
      "execution_count": 77,
      "outputs": [
        {
          "output_type": "stream",
          "name": "stdout",
          "text": [
            "              precision    recall  f1-score   support\n",
            "\n",
            "           0       0.86      0.84      0.85       576\n",
            "           1       0.19      0.22      0.20       102\n",
            "\n",
            "    accuracy                           0.74       678\n",
            "   macro avg       0.52      0.53      0.52       678\n",
            "weighted avg       0.76      0.74      0.75       678\n",
            "\n"
          ]
        }
      ]
    },
    {
      "cell_type": "markdown",
      "metadata": {
        "id": "1aiodQyPoU7Q"
      },
      "source": [
        "# **Hypertunning Decision Tree**"
      ]
    },
    {
      "cell_type": "code",
      "metadata": {
        "colab": {
          "base_uri": "https://localhost:8080/"
        },
        "id": "MeMfCyR0oNvS",
        "outputId": "10e9b068-c8aa-407a-82b9-34c8b90a3c27"
      },
      "source": [
        "# Creating lists of parameter for Decision Tree Classifier\n",
        "criterion = ['gini', 'entropy']\n",
        "max_depth = [2,4,6,8,10,12]\n",
        "\n",
        "# Creating a dictionary of all the parameter options \n",
        "# Note that we can access the parameters of steps of a pipeline by using '__’\n",
        "parameters = dict(dec_tree__criterion=criterion,\n",
        "                      dec_tree__max_depth=max_depth)\n",
        "\n",
        "# Conducting Parameter Optmization With Pipeline\n",
        "# Creating a grid search object\n",
        "clf_GS = GridSearchCV(estimator=model, param_grid=grid, n_jobs=10, cv=cv, scoring='f1',error_score=0,verbose=3)\n",
        "\n",
        "# Fitting the grid search\n",
        "clf_GS.fit(X_train, y_ros)\n",
        "# Viewing The Best Parameters\n",
        "print('Best Criterion:', clf_GS.best_estimator_.get_params())\n",
        "print('Best max_depth:', clf_GS.best_estimator_.get_params())\n",
        "print('Best Number Of Components:', clf_GS.best_estimator_.get_params())\n",
        "print(); print(clf_GS.best_estimator_.get_params())"
      ],
      "execution_count": 78,
      "outputs": [
        {
          "output_type": "stream",
          "name": "stdout",
          "text": [
            "Fitting 30 folds for each of 15 candidates, totalling 450 fits\n"
          ]
        },
        {
          "output_type": "stream",
          "name": "stderr",
          "text": [
            "[Parallel(n_jobs=10)]: Using backend LokyBackend with 10 concurrent workers.\n",
            "[Parallel(n_jobs=10)]: Done  12 tasks      | elapsed:    0.7s\n",
            "[Parallel(n_jobs=10)]: Done 196 tasks      | elapsed:    6.6s\n"
          ]
        },
        {
          "output_type": "stream",
          "name": "stdout",
          "text": [
            "Best Criterion: {'C': 0.01, 'class_weight': None, 'dual': False, 'fit_intercept': True, 'intercept_scaling': 1, 'l1_ratio': None, 'max_iter': 100, 'multi_class': 'auto', 'n_jobs': None, 'penalty': 'l2', 'random_state': None, 'solver': 'newton-cg', 'tol': 0.0001, 'verbose': 0, 'warm_start': False}\n",
            "Best max_depth: {'C': 0.01, 'class_weight': None, 'dual': False, 'fit_intercept': True, 'intercept_scaling': 1, 'l1_ratio': None, 'max_iter': 100, 'multi_class': 'auto', 'n_jobs': None, 'penalty': 'l2', 'random_state': None, 'solver': 'newton-cg', 'tol': 0.0001, 'verbose': 0, 'warm_start': False}\n",
            "Best Number Of Components: {'C': 0.01, 'class_weight': None, 'dual': False, 'fit_intercept': True, 'intercept_scaling': 1, 'l1_ratio': None, 'max_iter': 100, 'multi_class': 'auto', 'n_jobs': None, 'penalty': 'l2', 'random_state': None, 'solver': 'newton-cg', 'tol': 0.0001, 'verbose': 0, 'warm_start': False}\n",
            "\n",
            "{'C': 0.01, 'class_weight': None, 'dual': False, 'fit_intercept': True, 'intercept_scaling': 1, 'l1_ratio': None, 'max_iter': 100, 'multi_class': 'auto', 'n_jobs': None, 'penalty': 'l2', 'random_state': None, 'solver': 'newton-cg', 'tol': 0.0001, 'verbose': 0, 'warm_start': False}\n"
          ]
        },
        {
          "output_type": "stream",
          "name": "stderr",
          "text": [
            "[Parallel(n_jobs=10)]: Done 431 out of 450 | elapsed:   12.1s remaining:    0.5s\n",
            "[Parallel(n_jobs=10)]: Done 450 out of 450 | elapsed:   12.2s finished\n"
          ]
        }
      ]
    },
    {
      "cell_type": "code",
      "metadata": {
        "colab": {
          "base_uri": "https://localhost:8080/"
        },
        "id": "TKrOOqPPoanP",
        "outputId": "24856747-41d2-4df5-f533-9f3244c3321c"
      },
      "source": [
        "pred=clf_GS.predict(test_data)\n",
        "print(classification_report(final_testY,pred))"
      ],
      "execution_count": 79,
      "outputs": [
        {
          "output_type": "stream",
          "name": "stdout",
          "text": [
            "              precision    recall  f1-score   support\n",
            "\n",
            "           0       0.93      0.57      0.70       576\n",
            "           1       0.24      0.77      0.37       102\n",
            "\n",
            "    accuracy                           0.60       678\n",
            "   macro avg       0.59      0.67      0.54       678\n",
            "weighted avg       0.83      0.60      0.65       678\n",
            "\n"
          ]
        }
      ]
    },
    {
      "cell_type": "markdown",
      "metadata": {
        "id": "LUb7YCm6okpP"
      },
      "source": [
        "# **3.XGBoost**"
      ]
    },
    {
      "cell_type": "code",
      "metadata": {
        "colab": {
          "base_uri": "https://localhost:8080/"
        },
        "id": "Y8ZC4a8_oiYN",
        "outputId": "0bf05dc9-280e-44de-9391-74e50bb6658f"
      },
      "source": [
        "xg = XGBClassifier()\n",
        "xg.fit(X_train,y_ros)\n",
        "pred=xg.predict(test_data)\n",
        "print(classification_report(final_testY,pred))"
      ],
      "execution_count": 80,
      "outputs": [
        {
          "output_type": "stream",
          "name": "stdout",
          "text": [
            "              precision    recall  f1-score   support\n",
            "\n",
            "           0       0.92      0.64      0.75       576\n",
            "           1       0.25      0.67      0.36       102\n",
            "\n",
            "    accuracy                           0.64       678\n",
            "   macro avg       0.58      0.65      0.56       678\n",
            "weighted avg       0.81      0.64      0.69       678\n",
            "\n"
          ]
        }
      ]
    },
    {
      "cell_type": "markdown",
      "metadata": {
        "id": "sCaKPD55oqe6"
      },
      "source": [
        "# **Hypertunning XGboost using Bayesian Optimization**\n",
        "\n",
        "For computationally intensive tasks, grid search and random search can be painfully time-consuming with less luck of finding optimal parameters. These methods hardly rely on any information that the model learned during the previous optimizations. Bayesian Optimization on the other hand constantly learns from previous optimizations to find a best-optimized parameter list and also requires fewer samples to learn or derive the best values.\n",
        "\n",
        "Two common terms that you will come across when reading any material on Bayesian optimization are : \n",
        "   Surrogate model and\n",
        "   Acquisition function.\n",
        "\n",
        "The Gaussian process is a popular surrogate model for Bayesian Optimization. What it does is that it defines a prior function that can be used to learn from previous predictions or believes about the objective function.\n",
        "\n",
        "Acquisition function, on the other hand, is responsible for predicting the sampling points in the search space. Acquisition function follows the exploration and exploitation principle. It is a function that allows the optimizer to exploit an optimal region until a better value is obtained. The goal is to maximise the acquisition function to determine the next sampling point. The terms exploration and exploitation might seem familiar to you if you have learned about Thompson Sampling or Upper Confidence Bound which revolves around the same principle. These are also used as acquisition functions."
      ]
    },
    {
      "cell_type": "code",
      "metadata": {
        "colab": {
          "base_uri": "https://localhost:8080/"
        },
        "id": "wchuAmNxooAu",
        "outputId": "fc3315e4-9127-4a9b-b121-bd3790bce6d2"
      },
      "source": [
        "pip install bayesian-optimization"
      ],
      "execution_count": 81,
      "outputs": [
        {
          "output_type": "stream",
          "name": "stdout",
          "text": [
            "Collecting bayesian-optimization\n",
            "  Downloading bayesian-optimization-1.2.0.tar.gz (14 kB)\n",
            "Requirement already satisfied: numpy>=1.9.0 in /usr/local/lib/python3.7/dist-packages (from bayesian-optimization) (1.19.5)\n",
            "Requirement already satisfied: scipy>=0.14.0 in /usr/local/lib/python3.7/dist-packages (from bayesian-optimization) (1.4.1)\n",
            "Requirement already satisfied: scikit-learn>=0.18.0 in /usr/local/lib/python3.7/dist-packages (from bayesian-optimization) (0.22.2.post1)\n",
            "Requirement already satisfied: joblib>=0.11 in /usr/local/lib/python3.7/dist-packages (from scikit-learn>=0.18.0->bayesian-optimization) (1.0.1)\n",
            "Building wheels for collected packages: bayesian-optimization\n",
            "  Building wheel for bayesian-optimization (setup.py) ... \u001b[?25l\u001b[?25hdone\n",
            "  Created wheel for bayesian-optimization: filename=bayesian_optimization-1.2.0-py3-none-any.whl size=11685 sha256=8947a42f437123f470ed6a70d44350425250a45a74fb37813c9f3efc2ecfb4f1\n",
            "  Stored in directory: /root/.cache/pip/wheels/fd/9b/71/f127d694e02eb40bcf18c7ae9613b88a6be4470f57a8528c5b\n",
            "Successfully built bayesian-optimization\n",
            "Installing collected packages: bayesian-optimization\n",
            "Successfully installed bayesian-optimization-1.2.0\n"
          ]
        }
      ]
    },
    {
      "cell_type": "code",
      "metadata": {
        "colab": {
          "base_uri": "https://localhost:8080/"
        },
        "id": "3OU_Gc6Op0Yh",
        "outputId": "c7780ce9-6fd1-4964-d890-32abede9d394"
      },
      "source": [
        "#Importing necessary libraries\n",
        "from bayes_opt import BayesianOptimization\n",
        "import xgboost as xgb\n",
        "from sklearn.metrics import mean_squared_error\n",
        "\n",
        "#Converting the dataframe into XGBoost’s Dmatrix object\n",
        "dtrain = xgb.DMatrix(X_train, label=y_ros)\n",
        "\n",
        "#Bayesian Optimization function for xgboost\n",
        "#specify the parameters you want to tune as keyword arguments\n",
        "def bo_tune_xgb(max_depth, gamma, n_estimators ,learning_rate):\n",
        "     params = {'max_depth': int(max_depth),\n",
        "              'gamma': gamma,\n",
        "              'n_estimators': int(n_estimators),\n",
        "              'learning_rate':learning_rate,\n",
        "              'subsample': 0.8,\n",
        "              'eta': 0.1,\n",
        "              'eval_metric': 'rmse'}\n",
        "    #Cross validating with the specified parameters in 5 folds and 70 iterations\n",
        "     cv_result = xgb.cv(params, dtrain, num_boost_round=70, nfold=5)\n",
        "    #Return the negative RMSE\n",
        "     return -1.0 * cv_result['test-rmse-mean'].iloc[-1]\n",
        "\n",
        "#Invoking the Bayesian Optimizer with the specified parameters to tune\n",
        "xgb_bo = BayesianOptimization(bo_tune_xgb, {'max_depth': (3, 10),\n",
        "                                             'gamma': (0, 1),\n",
        "                                             'learning_rate':(0,1),\n",
        "                                             'n_estimators':(100,120)\n",
        "                                            })\n",
        "\n",
        "#performing Bayesian optimization for 5 iterations with 8 steps of random exploration with an #acquisition function of expected improvement\n",
        "xgb_bo.maximize(n_iter=5, init_points=8, acq='ei')"
      ],
      "execution_count": 82,
      "outputs": [
        {
          "output_type": "stream",
          "name": "stdout",
          "text": [
            "|   iter    |  target   |   gamma   | learni... | max_depth | n_esti... |\n",
            "-------------------------------------------------------------------------\n",
            "| \u001b[0m 1       \u001b[0m | \u001b[0m-0.3298  \u001b[0m | \u001b[0m 0.2926  \u001b[0m | \u001b[0m 0.1474  \u001b[0m | \u001b[0m 5.45    \u001b[0m | \u001b[0m 103.2   \u001b[0m |\n",
            "| \u001b[95m 2       \u001b[0m | \u001b[95m-0.2714  \u001b[0m | \u001b[95m 0.5742  \u001b[0m | \u001b[95m 0.2743  \u001b[0m | \u001b[95m 9.5     \u001b[0m | \u001b[95m 112.7   \u001b[0m |\n",
            "| \u001b[0m 3       \u001b[0m | \u001b[0m-0.3223  \u001b[0m | \u001b[0m 0.1258  \u001b[0m | \u001b[0m 0.1573  \u001b[0m | \u001b[0m 5.543   \u001b[0m | \u001b[0m 113.2   \u001b[0m |\n",
            "| \u001b[0m 4       \u001b[0m | \u001b[0m-0.3842  \u001b[0m | \u001b[0m 0.02817 \u001b[0m | \u001b[0m 0.1251  \u001b[0m | \u001b[0m 4.068   \u001b[0m | \u001b[0m 119.5   \u001b[0m |\n",
            "| \u001b[95m 5       \u001b[0m | \u001b[95m-0.2631  \u001b[0m | \u001b[95m 0.4208  \u001b[0m | \u001b[95m 0.3859  \u001b[0m | \u001b[95m 9.993   \u001b[0m | \u001b[95m 111.6   \u001b[0m |\n",
            "| \u001b[0m 6       \u001b[0m | \u001b[0m-0.3119  \u001b[0m | \u001b[0m 0.2107  \u001b[0m | \u001b[0m 0.6819  \u001b[0m | \u001b[0m 4.695   \u001b[0m | \u001b[0m 100.0   \u001b[0m |\n",
            "| \u001b[0m 7       \u001b[0m | \u001b[0m-0.3433  \u001b[0m | \u001b[0m 0.4859  \u001b[0m | \u001b[0m 0.9923  \u001b[0m | \u001b[0m 7.233   \u001b[0m | \u001b[0m 114.9   \u001b[0m |\n",
            "| \u001b[0m 8       \u001b[0m | \u001b[0m-0.3022  \u001b[0m | \u001b[0m 0.3881  \u001b[0m | \u001b[0m 0.6459  \u001b[0m | \u001b[0m 5.603   \u001b[0m | \u001b[0m 110.4   \u001b[0m |\n",
            "| \u001b[0m 9       \u001b[0m | \u001b[0m-0.3117  \u001b[0m | \u001b[0m 0.9957  \u001b[0m | \u001b[0m 0.5991  \u001b[0m | \u001b[0m 9.728   \u001b[0m | \u001b[0m 100.1   \u001b[0m |\n",
            "| \u001b[0m 10      \u001b[0m | \u001b[0m-0.5     \u001b[0m | \u001b[0m 1.0     \u001b[0m | \u001b[0m 0.0     \u001b[0m | \u001b[0m 10.0    \u001b[0m | \u001b[0m 110.4   \u001b[0m |\n",
            "| \u001b[0m 11      \u001b[0m | \u001b[0m-0.3253  \u001b[0m | \u001b[0m 0.0     \u001b[0m | \u001b[0m 1.0     \u001b[0m | \u001b[0m 10.0    \u001b[0m | \u001b[0m 113.6   \u001b[0m |\n",
            "| \u001b[0m 12      \u001b[0m | \u001b[0m-0.3774  \u001b[0m | \u001b[0m 0.0     \u001b[0m | \u001b[0m 1.0     \u001b[0m | \u001b[0m 3.0     \u001b[0m | \u001b[0m 106.1   \u001b[0m |\n",
            "| \u001b[0m 13      \u001b[0m | \u001b[0m-0.3337  \u001b[0m | \u001b[0m 0.0     \u001b[0m | \u001b[0m 1.0     \u001b[0m | \u001b[0m 8.318   \u001b[0m | \u001b[0m 111.7   \u001b[0m |\n",
            "=========================================================================\n"
          ]
        }
      ]
    },
    {
      "cell_type": "code",
      "metadata": {
        "colab": {
          "base_uri": "https://localhost:8080/"
        },
        "id": "Pddozp7fqB_o",
        "outputId": "487eae94-0791-43d0-aa8c-f76acc699aed"
      },
      "source": [
        "#Extracting the best parameters\n",
        "params = xgb_bo.max['params']\n",
        "print(params)\n",
        "\n",
        "#Converting the max_depth and n_estimator values from float to int\n",
        "params['max_depth']= int(params['max_depth'])\n",
        "params['n_estimators']= int(params['n_estimators'])\n",
        "\n",
        "#Initialize an XGBClassifier with the tuned parameters and fit the training data\n",
        "from xgboost import XGBClassifier\n",
        "classifier2 = XGBClassifier(**params).fit(X_train, y_ros)\n",
        "\n",
        "#predicting for test set\n",
        "test_p2 = classifier2.predict(test_data)\n",
        "\n",
        "#Looking at the classification report\n",
        "print(classification_report(test_p2, final_testY))"
      ],
      "execution_count": 83,
      "outputs": [
        {
          "output_type": "stream",
          "name": "stdout",
          "text": [
            "{'gamma': 0.42083268754658065, 'learning_rate': 0.38592756394894634, 'max_depth': 9.992671341446478, 'n_estimators': 111.63289219877159}\n",
            "              precision    recall  f1-score   support\n",
            "\n",
            "           0       0.90      0.86      0.88       600\n",
            "           1       0.21      0.27      0.23        78\n",
            "\n",
            "    accuracy                           0.80       678\n",
            "   macro avg       0.55      0.57      0.56       678\n",
            "weighted avg       0.82      0.80      0.81       678\n",
            "\n"
          ]
        }
      ]
    },
    {
      "cell_type": "markdown",
      "metadata": {
        "id": "SDr1-X-Eqbp1"
      },
      "source": [
        "# **4. K-Nearest Neighbors**"
      ]
    },
    {
      "cell_type": "code",
      "metadata": {
        "colab": {
          "base_uri": "https://localhost:8080/"
        },
        "id": "Pru-dUWOqYqP",
        "outputId": "c4788d48-112e-4d03-cb9f-d76d043e3e9c"
      },
      "source": [
        "knn = KNeighborsClassifier()\n",
        "knn.fit(X_train,y_ros)\n",
        "pred=knn.predict(test_data)\n",
        "print(classification_report(final_testY,pred))"
      ],
      "execution_count": 84,
      "outputs": [
        {
          "output_type": "stream",
          "name": "stdout",
          "text": [
            "              precision    recall  f1-score   support\n",
            "\n",
            "           0       0.90      0.69      0.78       576\n",
            "           1       0.24      0.55      0.33       102\n",
            "\n",
            "    accuracy                           0.67       678\n",
            "   macro avg       0.57      0.62      0.56       678\n",
            "weighted avg       0.80      0.67      0.71       678\n",
            "\n"
          ]
        }
      ]
    },
    {
      "cell_type": "code",
      "metadata": {
        "colab": {
          "base_uri": "https://localhost:8080/",
          "height": 297
        },
        "id": "ZsY_5A2DqhDv",
        "outputId": "b5036275-0b55-4f43-e323-f971b0d479d3"
      },
      "source": [
        "from sklearn.metrics import plot_roc_curve\n",
        "plt.figure(figsize=(15,8))\n",
        "svc_disp = plot_roc_curve(knn,test_data,final_testY)\n",
        "x,y=np.arange(0,1.1,0.1),np.arange(0,1.1,0.1)\n",
        "plt.plot(x,y,'b--',color='r')\n",
        "plt.show()"
      ],
      "execution_count": 85,
      "outputs": [
        {
          "output_type": "display_data",
          "data": {
            "text/plain": [
              "<Figure size 1080x576 with 0 Axes>"
            ]
          },
          "metadata": {}
        },
        {
          "output_type": "display_data",
          "data": {
            "image/png": "[encoded data removed]",
            "text/plain": [
              "<Figure size 432x288 with 1 Axes>"
            ]
          },
          "metadata": {
            "needs_background": "light"
          }
        }
      ]
    },
    {
      "cell_type": "markdown",
      "metadata": {
        "id": "wMCAeg28qmDf"
      },
      "source": [
        "# **5.Support Vector Machine**"
      ]
    },
    {
      "cell_type": "code",
      "metadata": {
        "colab": {
          "base_uri": "https://localhost:8080/"
        },
        "id": "qXlnzmjzqjTp",
        "outputId": "f62f00cb-5c54-48dd-cb31-652b605e60d3"
      },
      "source": [
        "clf = SVC()\n",
        "clf.fit(X_train,y_ros)\n",
        "pred=clf.predict(test_data)\n",
        "print(classification_report(final_testY,pred))"
      ],
      "execution_count": 86,
      "outputs": [
        {
          "output_type": "stream",
          "name": "stdout",
          "text": [
            "              precision    recall  f1-score   support\n",
            "\n",
            "           0       0.90      0.73      0.80       576\n",
            "           1       0.26      0.53      0.35       102\n",
            "\n",
            "    accuracy                           0.70       678\n",
            "   macro avg       0.58      0.63      0.58       678\n",
            "weighted avg       0.80      0.70      0.74       678\n",
            "\n"
          ]
        }
      ]
    },
    {
      "cell_type": "markdown",
      "metadata": {
        "id": "rdBxACcOrK5q"
      },
      "source": [
        "# **Hypertunning SVM**"
      ]
    },
    {
      "cell_type": "code",
      "metadata": {
        "colab": {
          "base_uri": "https://localhost:8080/"
        },
        "id": "9X8n409xqtiP",
        "outputId": "28e32cab-b0b8-4897-c301-527d6b693bbf"
      },
      "source": [
        "# define model and parameters\n",
        "model = SVC()\n",
        "kernel = ['rbf', 'sigmoid']\n",
        "C = [50, 10, 1.0, 0.1, 0.01]\n",
        "gamma = ['scale']\n",
        "# define grid search\n",
        "grid = dict(kernel=kernel,C=C,gamma=gamma)\n",
        "cv = RepeatedStratifiedKFold(n_splits=10, n_repeats=3, random_state=1)\n",
        "grid_search = GridSearchCV(estimator=model, param_grid=grid, n_jobs=10, cv=cv, scoring='f1',error_score=0,verbose=3)\n",
        "grid_result = grid_search.fit(X_train, y_ros)\n",
        "# summarize results\n",
        "print(\"Best: %f using %s\" % (grid_result.best_score_, grid_result.best_params_))"
      ],
      "execution_count": 87,
      "outputs": [
        {
          "output_type": "stream",
          "name": "stdout",
          "text": [
            "Fitting 30 folds for each of 10 candidates, totalling 300 fits\n"
          ]
        },
        {
          "output_type": "stream",
          "name": "stderr",
          "text": [
            "[Parallel(n_jobs=10)]: Using backend LokyBackend with 10 concurrent workers.\n",
            "[Parallel(n_jobs=10)]: Done  12 tasks      | elapsed:   23.1s\n",
            "[Parallel(n_jobs=10)]: Done 108 tasks      | elapsed:  1.7min\n",
            "[Parallel(n_jobs=10)]: Done 268 tasks      | elapsed:  3.9min\n",
            "[Parallel(n_jobs=10)]: Done 300 out of 300 | elapsed:  4.4min finished\n"
          ]
        },
        {
          "output_type": "stream",
          "name": "stdout",
          "text": [
            "Best: 0.913374 using {'C': 50, 'gamma': 'scale', 'kernel': 'rbf'}\n"
          ]
        }
      ]
    },
    {
      "cell_type": "code",
      "metadata": {
        "colab": {
          "base_uri": "https://localhost:8080/"
        },
        "id": "YJOhbIzUrPLX",
        "outputId": "c2a92397-6448-4281-8c16-380fd5d884b8"
      },
      "source": [
        "pred=grid_search.predict(test_data)\n",
        "print(classification_report(final_testY,pred))"
      ],
      "execution_count": 88,
      "outputs": [
        {
          "output_type": "stream",
          "name": "stdout",
          "text": [
            "              precision    recall  f1-score   support\n",
            "\n",
            "           0       0.86      0.82      0.84       576\n",
            "           1       0.21      0.27      0.24       102\n",
            "\n",
            "    accuracy                           0.73       678\n",
            "   macro avg       0.54      0.55      0.54       678\n",
            "weighted avg       0.77      0.73      0.75       678\n",
            "\n"
          ]
        }
      ]
    },
    {
      "cell_type": "code",
      "metadata": {
        "colab": {
          "base_uri": "https://localhost:8080/",
          "height": 297
        },
        "id": "0iCi32-lsUxp",
        "outputId": "fc1a26c8-43cf-4b70-a186-11c16731903f"
      },
      "source": [
        "from sklearn.metrics import plot_roc_curve\n",
        "plt.figure(figsize=(15,8))\n",
        "svc_disp = plot_roc_curve(clf,test_data,final_testY)\n",
        "x,y=np.arange(0,1.1,0.1),np.arange(0,1.1,0.1)\n",
        "plt.plot(x,y,'b--',color='r')\n",
        "plt.show()"
      ],
      "execution_count": 89,
      "outputs": [
        {
          "output_type": "display_data",
          "data": {
            "text/plain": [
              "<Figure size 1080x576 with 0 Axes>"
            ]
          },
          "metadata": {}
        },
        {
          "output_type": "display_data",
          "data": {
            "image/png": "[encoded data removed]",
            "text/plain": [
              "<Figure size 432x288 with 1 Axes>"
            ]
          },
          "metadata": {
            "needs_background": "light"
          }
        }
      ]
    },
    {
      "cell_type": "markdown",
      "metadata": {
        "id": "OmVVOn5CseNB"
      },
      "source": [
        "After training each model and tuning their hyper-parameters using grid search, I evaluated and compared their performance using the following metrics:\n",
        "\n",
        "*   **The accuracy score:** which is the ratio of the number of correct predictions to the total number of input samples. It measures the tendency of an algorithm to classify data correctly.\n",
        "*   **The Recall Score:** Which is defined as the weighted harmonic mean of the test’s precision and recall. By using both precision and recall its gives a more realistic measure of a test’s performance. (Precision, also called the positive predictive value, is the proportion of positive results that truly are positive. Recall, also called sensitivity, is the ability of a test to correctly identify positive results to get the true positive rate).\n",
        "*  **The Area under the ROC Curve (AUC):** Which provides an aggregate measure of performance across all possible classification thresholds. It gives the probability that the model ranks a random positive example more highly than a random negative example\n",
        "*   List item\n",
        "\n",
        "\n",
        "\n"
      ]
    },
    {
      "cell_type": "markdown",
      "metadata": {
        "id": "MYgQD4ess8Qi"
      },
      "source": [
        "# **Here are the results:**"
      ]
    },
    {
      "cell_type": "code",
      "metadata": {
        "colab": {
          "base_uri": "https://localhost:8080/"
        },
        "id": "8IEi8BbisXLr",
        "outputId": "ddbd36c4-52dd-42ad-8c8c-f532cb18e42d"
      },
      "source": [
        "from prettytable import PrettyTable\n",
        "test = PrettyTable(['SL NO',\"MODEL_NAME\", \"Accuracy\", \"F1-score\",'Recall'])\n",
        "test.add_row(['1','Logistic Regression','0.60','0.65','0.71'])\n",
        "test.add_row(['2','Decision Tree Classifier','0.60','0.75','0.77'])\n",
        "test.add_row(['3','XGBoost','0.74','0.69','0.67'])\n",
        "test.add_row(['4','KNearest Neighbors','0.67','0.55','0.57'])\n",
        "test.add_row(['5','Support Vector Machine','0.70','0.58','0.74'])\n",
        "print(test)"
      ],
      "execution_count": 90,
      "outputs": [
        {
          "output_type": "stream",
          "name": "stdout",
          "text": [
            "+-------+--------------------------+----------+----------+--------+\n",
            "| SL NO |        MODEL_NAME        | Accuracy | F1-score | Recall |\n",
            "+-------+--------------------------+----------+----------+--------+\n",
            "|   1   |   Logistic Regression    |   0.60   |   0.65   |  0.71  |\n",
            "|   2   | Decision Tree Classifier |   0.60   |   0.75   |  0.77  |\n",
            "|   3   |         XGBoost          |   0.74   |   0.69   |  0.67  |\n",
            "|   4   |    KNearest Neighbors    |   0.67   |   0.55   |  0.57  |\n",
            "|   5   |  Support Vector Machine  |   0.70   |   0.58   |  0.74  |\n",
            "+-------+--------------------------+----------+----------+--------+\n"
          ]
        }
      ]
    },
    {
      "cell_type": "code",
      "metadata": {
        "id": "y96nd4rTtEN3"
      },
      "source": [
        ""
      ],
      "execution_count": null,
      "outputs": []
    }
  ]
}